{
 "cells": [
  {
   "cell_type": "markdown",
   "metadata": {},
   "source": [
    "## Week 10 and 11 Assignment - DATASCI200 Introduction to Data Science Programming, UC Berkeley MIDS\n",
    "\n",
    "Write code in this Jupyter Notebook to solve the following problems. Please upload this **Notebook** with your solutions to your GitHub repository and provide a link in the last question in gradescope. \n",
    "\n",
    "Assignment due date: 11:59PM PT the night before the Week 12 Live Session. Do **NOT** push/upload the data file. "
   ]
  },
  {
   "cell_type": "markdown",
   "metadata": {},
   "source": [
    "## Objectives\n",
    "\n",
    "- Explore and glean insights from a real dataset using pandas\n",
    "- Practice using pandas for exploratory analysis, information gathering, and discovery\n",
    "- Practice cleaning data and answering questions"
   ]
  },
  {
   "cell_type": "markdown",
   "metadata": {},
   "source": [
    "## General Guidelines:\n",
    "\n",
    "- This is a **real** dataset and so it may contain errors and other pecularities to work through\n",
    "- This dataset is ~218mb, which will take some time to load (and probably won't load in Google Sheets or Excel)\n",
    "- If you make assumptions, annotate them in your responses\n",
    "- While there is one code/markdown cell positioned after each question as a placeholder, some of your code/responses may require multiple cells\n",
    "- Double-click the markdown cells that say for example **1a answer here:** to enter your written answers. If you need more cells for your written answers, make them markdown cells (rather than code cells)\n",
    "- This homework assignment is not autograded because of the variety of responses one could give. \n",
    "  - Please upload this notebook to the autograder page and the TAs will manually grade it. \n",
    "  - Ensure that each cell is run and outputs your answer for ease of grading! \n",
    "  - Highly suggest to do a `restart & run all` before uploading your code to ensure everything runs and outputs correctly.\n",
    "  - Answers without code (or code that runs) will be given 0 points.\n",
    "- **This is meant to simulate real world data so you will have to do some external research to determine what some of the answers are!** "
   ]
  },
  {
   "cell_type": "markdown",
   "metadata": {},
   "source": [
    "## Dataset\n",
    "\n",
    "You are to analyze campaign contributions to the 2016 U.S. presidential primary races made in California. Use the csv file located here: https://drive.google.com/file/d/1Lgg-PwXQ6TQLDowd6XyBxZw5g1NGWPjB/view?usp=sharing. You should download and save this file in the same folder as this notebook is stored.  This file originally came from the U.S. Federal Election Commission (https://www.fec.gov/).\n",
    "\n",
    "**DO NOT PUSH THIS FILE TO YOUR GITHUB REPO!**\n",
    "\n",
    "- Best practice is to not have DATA files in your code repo. As shown below, the default load is outside of the folder this notebook is in. If you change the folder where the file is stored please update the first cell!\n",
    "- If you do accidentally push the file to your github repo - follow the directions here to fix it: https://docs.google.com/document/d/15Irgb5V5G7pKPWgAerH7FPMpKeQRunbNflaW-hR2hTA/edit?usp=sharing\n",
    "\n",
    "Documentation for this data can be found here: https://drive.google.com/file/d/11o_SByceenv0NgNMstM-dxC1jL7I9fHL/view?usp=sharing"
   ]
  },
  {
   "cell_type": "markdown",
   "metadata": {},
   "source": [
    "## Data Questions\n",
    "\n",
    "You are working for a California state-wide election campaign. Your boss wants you to examine historic 2016 election contribution data to see what zipcodes are more supportive of fundraising for your candidate. \n",
    "\n",
    "Your boss asks you to filter out some of the records:\n",
    "- Only use primary 2016 contribution data (more like how your race is).\n",
    "- Concentrate on Bernie Sanders as a candidate (most a like your candidate)\n",
    "\n",
    "The questions your boss wants answered is:\n",
    "- Which zipcode (5-digit zipcode) had the highest count of contributions and the most dollar amount?\n",
    "- What day(s) of the month do most people donate?"
   ]
  },
  {
   "cell_type": "markdown",
   "metadata": {},
   "source": [
    "## Setup\n",
    "\n",
    "Run the cell below as it will load the data into a pandas dataframe named `contrib`. Note that a custom date parser is defined to speed up loading. If Python were to guess the date format, it would take even longer to load."
   ]
  },
  {
   "cell_type": "code",
   "execution_count": 1,
   "metadata": {},
   "outputs": [],
   "source": [
    "import pandas as pd\n",
    "import numpy as np\n",
    "from datetime import datetime\n",
    "\n",
    "# These commands below set some options for pandas and to have matplotlib show the charts in the notebook\n",
    "pd.set_option('display.max_rows', 1000)\n",
    "pd.options.display.float_format = '{:,.2f}'.format\n",
    "\n",
    "# Define a date parser to pass to read_csv\n",
    "d = lambda x: datetime.strptime(x, '%d-%b-%y')\n",
    "\n",
    "# Load the data\n",
    "# We have this defaulted to the folder OUTSIDE of your repo - please change it as needed\n",
    "contrib = pd.read_csv('P00000001-CA.csv',low_memory=False, index_col=False, parse_dates=['contb_receipt_dt'], date_parser=d)\n",
    "\n",
    "# Note - for now, it is okay to ignore the warning about mixed types. "
   ]
  },
  {
   "cell_type": "markdown",
   "metadata": {},
   "source": [
    "***\n",
    "## 1. Initial Data Checks (50 points)\n",
    "\n",
    "First we will take a preliminary look at the data to check that it was loaded correctly and contains the info we need.\n",
    "\n",
    "The questions to answer at the end of this section:\n",
    "- Do we have the correct # of columns and rows. \n",
    "- Do the records contain data for the questions we want to answer \n",
    "- What columns are important? \n",
    "- What columns can be dropped?\n",
    "- What are the data problems?"
   ]
  },
  {
   "cell_type": "markdown",
   "metadata": {},
   "source": [
    "**1a.** Print the *shape* of the data. Does this match the expectation? (2 points)"
   ]
  },
  {
   "cell_type": "code",
   "execution_count": 2,
   "metadata": {
    "deletable": false,
    "nbgrader": {
     "checksum": "9f7a7938e43b14d3c7c49d6a278b0bb1",
     "grade": true,
     "grade_id": "cell-5d017805206f18b1",
     "locked": false,
     "points": 0,
     "schema_version": 1,
     "solution": true
    }
   },
   "outputs": [
    {
     "name": "stdout",
     "output_type": "stream",
     "text": [
      "(1125659, 18)\n"
     ]
    }
   ],
   "source": [
    "# 1a YOUR CODE HERE\n",
    "print(contrib.shape)"
   ]
  },
  {
   "cell_type": "markdown",
   "metadata": {},
   "source": [
    "- **1a answer here:** \n",
    "- **Yes this matches the expectation.**"
   ]
  },
  {
   "cell_type": "markdown",
   "metadata": {
    "deletable": false,
    "nbgrader": {
     "checksum": "e6a198453ec4b0171a064fef0bd7c678",
     "grade": true,
     "grade_id": "cell-3bc26919169bf4aa",
     "locked": false,
     "points": 5,
     "schema_version": 1,
     "solution": true
    }
   },
   "source": [
    "**1b.** Print a list of column names. Are all the columns included that are in the documentation? (2 points)"
   ]
  },
  {
   "cell_type": "code",
   "execution_count": 3,
   "metadata": {
    "deletable": false,
    "nbgrader": {
     "checksum": "4fbf682f1c78b3614832c6f48ecd88c7",
     "grade": true,
     "grade_id": "cell-72bc97601b84f17d",
     "locked": false,
     "points": 5,
     "schema_version": 1,
     "solution": true
    }
   },
   "outputs": [
    {
     "name": "stdout",
     "output_type": "stream",
     "text": [
      "['cmte_id', 'cand_id', 'cand_nm', 'contbr_nm', 'contbr_city', 'contbr_st', 'contbr_zip', 'contbr_employer', 'contbr_occupation', 'contb_receipt_amt', 'contb_receipt_dt', 'receipt_desc', 'memo_cd', 'memo_text', 'form_tp', 'file_num', 'tran_id', 'election_tp']\n"
     ]
    }
   ],
   "source": [
    "# 1b YOUR CODE HERE\n",
    "print(contrib.columns.values.tolist())"
   ]
  },
  {
   "cell_type": "markdown",
   "metadata": {},
   "source": [
    "- **1b answer here:** \n",
    "- **Yes, All columns are included. **"
   ]
  },
  {
   "cell_type": "markdown",
   "metadata": {},
   "source": [
    "**1c** Print out the first five rows of the dataset. How do the columns `cand_id`, `cand_nm` and `contbr_st` look? (3 points)"
   ]
  },
  {
   "cell_type": "code",
   "execution_count": 4,
   "metadata": {},
   "outputs": [
    {
     "name": "stdout",
     "output_type": "stream",
     "text": [
      "     cmte_id    cand_id                  cand_nm          contbr_nm  \\\n",
      "0  C00575795  P00003392  Clinton, Hillary Rodham         AULL, ANNE   \n",
      "1  C00575795  P00003392  Clinton, Hillary Rodham  CARROLL, MARYJEAN   \n",
      "2  C00575795  P00003392  Clinton, Hillary Rodham   GANDARA, DESIREE   \n",
      "3  C00577130  P60007168         Sanders, Bernard          LEE, ALAN   \n",
      "4  C00577130  P60007168         Sanders, Bernard   LEONELLI, ODETTE   \n",
      "\n",
      "     contbr_city contbr_st contbr_zip            contbr_employer  \\\n",
      "0       LARKSPUR        CA  949391913                        NaN   \n",
      "1        CAMBRIA        CA  934284638                        NaN   \n",
      "2        FONTANA        CA  923371507                        NaN   \n",
      "3      CAMARILLO        CA  930111214  AT&T GOVERNMENT SOLUTIONS   \n",
      "4  REDONDO BEACH        CA  902784310   VERICOR ENTERPRISES INC.   \n",
      "\n",
      "   contbr_occupation  contb_receipt_amt contb_receipt_dt receipt_desc memo_cd  \\\n",
      "0            RETIRED              50.00       2016-04-26          NaN       X   \n",
      "1            RETIRED             200.00       2016-04-20          NaN       X   \n",
      "2            RETIRED               5.00       2016-04-02          NaN       X   \n",
      "3  SOFTWARE ENGINEER              40.00       2016-03-04          NaN     NaN   \n",
      "4         PHARMACIST              35.00       2016-03-05          NaN     NaN   \n",
      "\n",
      "                             memo_text form_tp  file_num      tran_id  \\\n",
      "0               * HILLARY VICTORY FUND    SA18   1091718     C4768722   \n",
      "1               * HILLARY VICTORY FUND    SA18   1091718     C4747242   \n",
      "2               * HILLARY VICTORY FUND    SA18   1091718     C4666603   \n",
      "3  * EARMARKED CONTRIBUTION: SEE BELOW   SA17A   1077404  VPF7BKWA097   \n",
      "4  * EARMARKED CONTRIBUTION: SEE BELOW   SA17A   1077404  VPF7BKX3MB3   \n",
      "\n",
      "  election_tp  \n",
      "0       P2016  \n",
      "1       P2016  \n",
      "2       P2016  \n",
      "3       P2016  \n",
      "4       P2016  \n"
     ]
    }
   ],
   "source": [
    "# 1c YOUR CODE HERE\n",
    "print(contrib.head(5))"
   ]
  },
  {
   "cell_type": "markdown",
   "metadata": {},
   "source": [
    "- **1c answer here:** \n",
    "- **Candidate Id, Name and State have values as per their column definition. They hold unique Id for candidate, their name and state from which they are contesting elections. **"
   ]
  },
  {
   "cell_type": "markdown",
   "metadata": {
    "deletable": false,
    "nbgrader": {
     "checksum": "0ec29a2cabd52709322d1cfd650babe7",
     "grade": true,
     "grade_id": "cell-23b51536d24c1645",
     "locked": false,
     "points": 0,
     "schema_version": 1,
     "solution": true
    }
   },
   "source": [
    "**1d.** Print out the values for the column `election_tp`. In your own words, based on the documentation, what information does the `election_tp` variable contain? Do the values in the column match the documentation? (3 points)"
   ]
  },
  {
   "cell_type": "code",
   "execution_count": 5,
   "metadata": {},
   "outputs": [
    {
     "name": "stdout",
     "output_type": "stream",
     "text": [
      "['P2016' 'G2016' nan 'P2020']\n"
     ]
    }
   ],
   "source": [
    "# 1d YOUR CODE HERE\n",
    "print(contrib.election_tp.unique())"
   ]
  },
  {
   "cell_type": "markdown",
   "metadata": {
    "deletable": false,
    "nbgrader": {
     "checksum": "cfa64002e64474584dc1442b5a39b460",
     "grade": true,
     "grade_id": "cell-8a320c2ff7c24d98",
     "locked": false,
     "points": 0,
     "schema_version": 1,
     "solution": true
    }
   },
   "source": [
    "- **1d answer here:** \n",
    "- **Distinct values in election_tp column indicates whether contribution was made for general election or primary election. Next four digits indicate the year of contribution.**"
   ]
  },
  {
   "cell_type": "markdown",
   "metadata": {
    "deletable": false,
    "nbgrader": {
     "checksum": "442b24601da06376c43cbe6ef5c5348a",
     "grade": true,
     "grade_id": "cell-6a453219105384dd",
     "locked": false,
     "points": 0,
     "schema_version": 1,
     "solution": true
    }
   },
   "source": [
    "**1e.** Print out the datatypes for all of the columns. What are the datatypes for the `contbr_zip`, `contb_receipt_amt`, `contb_receipt_dt`? (5 points)"
   ]
  },
  {
   "cell_type": "code",
   "execution_count": 6,
   "metadata": {
    "deletable": false,
    "nbgrader": {
     "checksum": "c5a1b7f30648cced7269ccb9b1532bd6",
     "grade": true,
     "grade_id": "cell-90c49bd6471a3dc9",
     "locked": false,
     "points": 0,
     "schema_version": 1,
     "solution": true
    }
   },
   "outputs": [
    {
     "name": "stdout",
     "output_type": "stream",
     "text": [
      "cmte_id                      object\n",
      "cand_id                      object\n",
      "cand_nm                      object\n",
      "contbr_nm                    object\n",
      "contbr_city                  object\n",
      "contbr_st                    object\n",
      "contbr_zip                   object\n",
      "contbr_employer              object\n",
      "contbr_occupation            object\n",
      "contb_receipt_amt           float64\n",
      "contb_receipt_dt     datetime64[ns]\n",
      "receipt_desc                 object\n",
      "memo_cd                      object\n",
      "memo_text                    object\n",
      "form_tp                      object\n",
      "file_num                      int64\n",
      "tran_id                      object\n",
      "election_tp                  object\n",
      "dtype: object\n"
     ]
    }
   ],
   "source": [
    "# 1e YOUR CODE HERE\n",
    "print(contrib.dtypes)"
   ]
  },
  {
   "cell_type": "markdown",
   "metadata": {
    "deletable": false,
    "nbgrader": {
     "checksum": "60d3e303837e9603de5b96e32af7d806",
     "grade": true,
     "grade_id": "cell-447dc63eff8ebc5f",
     "locked": false,
     "points": 0,
     "schema_version": 1,
     "solution": true
    }
   },
   "source": [
    "- **1e answer here:** \n",
    "- **contbr_zip = string, contb_receipt_amt = float, contb_receipt_dt = datetime**"
   ]
  },
  {
   "cell_type": "markdown",
   "metadata": {
    "collapsed": true,
    "deletable": false,
    "nbgrader": {
     "checksum": "20a71229316bf24a2ce62c52f72d8142",
     "grade": true,
     "grade_id": "cell-963603c5ed346a99",
     "locked": false,
     "points": 0,
     "schema_version": 1,
     "solution": true
    }
   },
   "source": [
    "**1f.** What columns have the most non-nulls?  Would you recommend to drop any columns based on the number of nulls? (5 points)"
   ]
  },
  {
   "cell_type": "code",
   "execution_count": 7,
   "metadata": {
    "deletable": false,
    "nbgrader": {
     "checksum": "426b589a9d6457f38381eb1c77678d4f",
     "grade": true,
     "grade_id": "cell-b6fc3f7c906c95a2",
     "locked": false,
     "points": 0,
     "schema_version": 1,
     "solution": true
    }
   },
   "outputs": [
    {
     "name": "stdout",
     "output_type": "stream",
     "text": [
      "receipt_desc         1110614\n",
      "memo_cd               981391\n",
      "memo_text             624511\n",
      "contbr_employer       157902\n",
      "contbr_occupation      10399\n",
      "election_tp             1425\n",
      "contbr_zip                95\n",
      "contbr_city               26\n",
      "tran_id                    0\n",
      "file_num                   0\n",
      "form_tp                    0\n",
      "cmte_id                    0\n",
      "contb_receipt_dt           0\n",
      "cand_id                    0\n",
      "contbr_st                  0\n",
      "contbr_nm                  0\n",
      "cand_nm                    0\n",
      "contb_receipt_amt          0\n",
      "dtype: int64\n"
     ]
    }
   ],
   "source": [
    "# 1f YOUR CODE HERE\n",
    "print(contrib.isnull().sum().sort_values(ascending=0))"
   ]
  },
  {
   "cell_type": "markdown",
   "metadata": {
    "collapsed": true,
    "deletable": false,
    "nbgrader": {
     "checksum": "81ebf2a2f96961b4464f6c35d2143427",
     "grade": true,
     "grade_id": "cell-bea2cf7a6fff8565",
     "locked": false,
     "points": 0,
     "schema_version": 1,
     "solution": true
    }
   },
   "source": [
    "- **1f answer here:** \n",
    "- **receipt_desc, memo_cd and memo_text are top three null value columns. I would consider receipt_desc column based on number of null values and their minimal significance on core data. contbr_employer and contbr_occupation are having null values as well but they are less than 10% of the total data and can be used to promote corporate level initiatives or occupation level initiatives in future. memo_cd and memo_text can be refferred to find transaction source or previous step of a particular row.**"
   ]
  },
  {
   "cell_type": "markdown",
   "metadata": {},
   "source": [
    "**1g.** A column we know that we want to use is the cand_nm column.  From the documentation each candidate is a unique candidate id also. Check data quality of `cand_id` column to see if it matches `cand_nm` column. Specifically check to ensure our targetted candidate 'Bernard Sanders' always has the same cand_id throughout. Any issues with `cand_nm` matching `cand_id`? (5 points)"
   ]
  },
  {
   "cell_type": "code",
   "execution_count": 8,
   "metadata": {},
   "outputs": [
    {
     "name": "stdout",
     "output_type": "stream",
     "text": [
      "                                    cand_id         cand_nm        \n",
      "                                    nunique   count nunique   count\n",
      "cand_id   cand_nm                                                  \n",
      "P00003392 Clinton, Hillary Rodham         1  547211       1  547211\n",
      "P20002671 Johnson, Gary                   1    1591       1    1591\n",
      "P20002721 Santorum, Richard J.            1      88       1      88\n",
      "P20003281 Perry, James R. (Rick)          1     116       1     116\n",
      "P20003984 Stein, Jill                     1    1907       1    1907\n",
      "P40003576 Paul, Rand                      1    4268       1    4268\n",
      "P60003670 Kasich, John R.                 1    3005       1    3005\n",
      "P60005915 Carson, Benjamin S.             1   27362       1   27362\n",
      "P60006046 Walker, Scott                   1     737       1     737\n",
      "P60006111 Cruz, Rafael Edward 'Ted'       1   57820       1   57820\n",
      "P60006723 Rubio, Marco                    1   14092       1   14092\n",
      "P60007168 Sanders, Bernard                1  407172       1  407172\n",
      "P60007242 Fiorina, Carly                  1    4696       1    4696\n",
      "P60007572 Pataki, George E.               1      20       1      20\n",
      "P60007671 O'Malley, Martin Joseph         1     397       1     397\n",
      "P60007697 Graham, Lindsey O.              1     347       1     347\n",
      "P60008059 Bush, Jeb                       1    3130       1    3130\n",
      "P60008398 Jindal, Bobby                   1      31       1      31\n",
      "P60008521 Christie, Christopher J.        1     333       1     333\n",
      "P60008885 Webb, James Henry Jr.           1     106       1     106\n",
      "P60009685 Lessig, Lawrence                1     372       1     372\n",
      "P60022654 McMullin, Evan                  1     156       1     156\n",
      "P80001571 Trump, Donald J.                1   50168       1   50168\n",
      "P80003379 Gilmore, James S III            1       3       1       3\n",
      "P80003478 Huckabee, Mike                  1     531       1     531\n"
     ]
    }
   ],
   "source": [
    "# 1g YOUR CODE HERE\n",
    "\n",
    "print(contrib.groupby(['cand_id','cand_nm']).agg({'cand_id': ['nunique', 'count'],'cand_nm': ['nunique', 'count']}))"
   ]
  },
  {
   "cell_type": "markdown",
   "metadata": {},
   "source": [
    "- **1g answer here:** \n",
    "- **Above output represents values grouped by candidate id. Sanders, Bernard is uniquely reprented by P60007168 id throughout the data. Count on the right side confirms there are no issues with any other candidate id and candidate name.**"
   ]
  },
  {
   "cell_type": "markdown",
   "metadata": {},
   "source": [
    "**1h.** Another area to check is to make sure all of the records are from California. Check the `contbr_st` column - are there any records outside of California based on `contbr_st`? (5 points)"
   ]
  },
  {
   "cell_type": "code",
   "execution_count": 9,
   "metadata": {},
   "outputs": [
    {
     "name": "stdout",
     "output_type": "stream",
     "text": [
      "CA    1125659\n",
      "Name: contbr_st, dtype: int64\n"
     ]
    }
   ],
   "source": [
    "# 1h YOUR CODE HERE\n",
    "print(contrib['contbr_st'].value_counts())"
   ]
  },
  {
   "cell_type": "markdown",
   "metadata": {},
   "source": [
    "- **1h answer here:** \n",
    "- **Based on above output there are no records outside the state of CA based on contbr_st.**"
   ]
  },
  {
   "cell_type": "markdown",
   "metadata": {},
   "source": [
    "**1i.** The next column to check for the analysis is the `tran_id` column. This column could be the primary key so look for duplicates. How many duplicate entries are there? Any pattern for why are there duplicate entries? (5 points)"
   ]
  },
  {
   "cell_type": "code",
   "execution_count": 10,
   "metadata": {},
   "outputs": [
    {
     "name": "stdout",
     "output_type": "stream",
     "text": [
      "False    1122205\n",
      "True        3454\n",
      "Name: tran_id, dtype: int64\n",
      "           cmte_id    cand_id                    cand_nm  \\\n",
      "43573    C00575449  P40003576                 Paul, Rand   \n",
      "42835    C00575449  P40003576                 Paul, Rand   \n",
      "44679    C00575449  P40003576                 Paul, Rand   \n",
      "42820    C00575449  P40003576                 Paul, Rand   \n",
      "44680    C00575449  P40003576                 Paul, Rand   \n",
      "...            ...        ...                        ...   \n",
      "592806   C00574624  P60006111  Cruz, Rafael Edward 'Ted'   \n",
      "1024607  C00574624  P60006111  Cruz, Rafael Edward 'Ted'   \n",
      "341445   C00573519  P60005915        Carson, Benjamin S.   \n",
      "37477    C00573519  P60005915        Carson, Benjamin S.   \n",
      "37470    C00573519  P60005915        Carson, Benjamin S.   \n",
      "\n",
      "                    contbr_nm   contbr_city contbr_st contbr_zip  \\\n",
      "43573    PARKS, PATRICIA MRS.       HUGHSON        CA      95326   \n",
      "42835    PARKS, PATRICIA MRS.       HUGHSON        CA      95326   \n",
      "44679         BREED, PAUL MR.  SOLANA BEACH        CA      92075   \n",
      "42820         BREED, PAUL MR.  SOLANA BEACH        CA      92075   \n",
      "44680        BREED, MARIELLEN  SOLANA BEACH        CA  920752356   \n",
      "...                       ...           ...       ...        ...   \n",
      "592806       BELTRAME, KELLIE        COVINA        CA      91724   \n",
      "1024607          JACOBS, YUKI      PALMDALE        CA      93552   \n",
      "341445        YANG, MING CHAU     SANTA ANA        CA      92705   \n",
      "37477          SAMPSON, RALPH      CARLSBAD        CA      92008   \n",
      "37470         LEACH, FLORENCE        AUBURN        CA      95602   \n",
      "\n",
      "               contbr_employer      contbr_occupation  contb_receipt_amt  \\\n",
      "43573                     SELF              HOUSEWIFE             200.00   \n",
      "42835                     SELF              HOUSEWIFE             200.00   \n",
      "44679               NET BURNER               ENGINEER            -500.00   \n",
      "42820               NET BURNER               ENGINEER            -500.00   \n",
      "44680    INFORMATION REQUESTED  INFORMATION REQUESTED             500.00   \n",
      "...                        ...                    ...                ...   \n",
      "592806                     NaN                    NaN            -850.00   \n",
      "1024607                    NaN                    NaN            -950.00   \n",
      "341445                     NaN                    NaN          -1,000.00   \n",
      "37477                      NaN                    NaN            -100.00   \n",
      "37470                      NaN                    NaN             -50.00   \n",
      "\n",
      "        contb_receipt_dt receipt_desc memo_cd memo_text form_tp  file_num  \\\n",
      "43573         2015-11-28          NaN       X       NaN   SA17A   1057798   \n",
      "42835         2015-11-28          NaN       X       NaN   SA17A   1057799   \n",
      "44679         2015-10-28          NaN       X       NaN   SA17A   1057798   \n",
      "42820         2015-10-28          NaN       X       NaN   SA17A   1057799   \n",
      "44680         2015-10-28          NaN       X       NaN   SA17A   1057798   \n",
      "...                  ...          ...     ...       ...     ...       ...   \n",
      "592806        2015-12-21       Refund     NaN       NaN   SB28A   1057556   \n",
      "1024607       2015-08-28       Refund     NaN       NaN   SB28A   1053893   \n",
      "341445        2016-09-13       Refund     NaN       NaN   SB28A   1111578   \n",
      "37477         2016-05-19       Refund     NaN       NaN   SB28A   1079198   \n",
      "37470         2016-05-19       Refund     NaN       NaN   SB28A   1079198   \n",
      "\n",
      "                      tran_id election_tp  \n",
      "43573    A26C35A6066754130B99       P2016  \n",
      "42835    A26C35A6066754130B99       P2016  \n",
      "44679    A340DF85B7F884133A20       P2016  \n",
      "42820    A340DF85B7F884133A20       P2016  \n",
      "44680    A4E50E2DD07E4475996F       P2016  \n",
      "...                       ...         ...  \n",
      "592806             SB28A.1286         NaN  \n",
      "1024607            SB28A.1327         NaN  \n",
      "341445            SB28A.90929       G2016  \n",
      "37477              SB28A.9119         NaN  \n",
      "37470              SB28A.9127         NaN  \n",
      "\n",
      "[3454 rows x 18 columns]\n"
     ]
    }
   ],
   "source": [
    "# 1i YOUR CODE HERE\n",
    "print(contrib.tran_id.duplicated().value_counts())\n",
    "print(contrib[contrib.duplicated(['tran_id'])==True].sort_values('tran_id'))"
   ]
  },
  {
   "cell_type": "markdown",
   "metadata": {},
   "source": [
    "- **1i answer here:**\n",
    "- **Above output indicates there are 3454 duplicate values for tran_id column hence this column alone may not be used as primary key. Some of the rows are change from primary to general and vice-versa and some rows are duplicate rows ** "
   ]
  },
  {
   "cell_type": "markdown",
   "metadata": {},
   "source": [
    "**1j.** Another column to check is the `contb_receipt_amt` that shows the donation amounts. How many negative donations are included? What do negative donations mean? Please show at least pull a few rows to look at the records with negative donations. Do these records match with the expectation of why a negative donation would happen? (5 points)"
   ]
  },
  {
   "cell_type": "code",
   "execution_count": 11,
   "metadata": {},
   "outputs": [
    {
     "name": "stdout",
     "output_type": "stream",
     "text": [
      "           cmte_id    cand_id                    cand_nm  \\\n",
      "19       C00574624  P60006111  Cruz, Rafael Edward 'Ted'   \n",
      "23       C00574624  P60006111  Cruz, Rafael Edward 'Ted'   \n",
      "81       C00574624  P60006111  Cruz, Rafael Edward 'Ted'   \n",
      "190      C00574624  P60006111  Cruz, Rafael Edward 'Ted'   \n",
      "213      C00574624  P60006111  Cruz, Rafael Edward 'Ted'   \n",
      "...            ...        ...                        ...   \n",
      "1125008  C00574624  P60006111  Cruz, Rafael Edward 'Ted'   \n",
      "1125317  C00580399  P60008521   Christie, Christopher J.   \n",
      "1125427  C00574624  P60006111  Cruz, Rafael Edward 'Ted'   \n",
      "1125446  C00573519  P60005915        Carson, Benjamin S.   \n",
      "1125582  C00574624  P60006111  Cruz, Rafael Edward 'Ted'   \n",
      "\n",
      "                    contbr_nm             contbr_city contbr_st contbr_zip  \\\n",
      "19           JOLLIFF, RICHARD                   CHICO        CA  959289507   \n",
      "23           JOLLIFF, RICHARD                   CHICO        CA  959289507   \n",
      "81           JOLLIFF, RICHARD                   CHICO        CA  959289507   \n",
      "190          NOWELL, DIANA L.  RANCHO SANTA MARGARITA        CA  926884928   \n",
      "213        LICHTY, ANDREW MR.               SAN DIEGO        CA  921096720   \n",
      "...                       ...                     ...       ...        ...   \n",
      "1125008  NELSON, PETER C. MR.         SAN LUIS OBISPO        CA  934018000   \n",
      "1125317       ASCHER, STEPHEN                PASADENA        CA  911013113   \n",
      "1125427       HANSEN, WILLIAM                GLENDALE        CA  912081507   \n",
      "1125446        PECK, JOHN JR.         RANCHO SANTA FE        CA  920670829   \n",
      "1125582        FARRELL, PETER                LA JOLLA        CA  920375633   \n",
      "\n",
      "                            contbr_employer     contbr_occupation  \\\n",
      "19                            SELF EMPLOYED               RANCHER   \n",
      "23                            SELF EMPLOYED               RANCHER   \n",
      "81                            SELF EMPLOYED               RANCHER   \n",
      "190      CAPISTRAND UNIFIED SCHOOL DISTRICT  LIBRARIAN TECHNICIAN   \n",
      "213                           SELF EMPLOYED           REAL ESTATE   \n",
      "...                                     ...                   ...   \n",
      "1125008                       SELF EMPLOYED               DENTIST   \n",
      "1125317                             MIRAMAR             EXECUTIVE   \n",
      "1125427                             RETIRED               RETIRED   \n",
      "1125446                    PECK ENTERPRISES             PRESIDENT   \n",
      "1125582                              RESMED              CHAIRMAN   \n",
      "\n",
      "         contb_receipt_amt contb_receipt_dt              receipt_desc memo_cd  \\\n",
      "19                  -25.00       2016-04-29  REDESIGNATION TO GENERAL       X   \n",
      "23                 -150.00       2016-04-29  REDESIGNATION TO GENERAL       X   \n",
      "81                  -60.00       2016-04-14  REDESIGNATION TO GENERAL       X   \n",
      "190                -100.00       2016-04-11  REDESIGNATION TO GENERAL       X   \n",
      "213                 -25.00       2016-04-30  REDESIGNATION TO GENERAL       X   \n",
      "...                    ...              ...                       ...     ...   \n",
      "1125008          -2,700.00       2015-07-31  REDESIGNATION TO GENERAL       X   \n",
      "1125317          -2,700.00       2016-01-30   REATTRIBUTION TO SPOUSE       X   \n",
      "1125427          -5,400.00       2015-07-01                         0       0   \n",
      "1125446          -2,700.00       2016-01-01  REDESIGNATION TO GENERAL       X   \n",
      "1125582          -2,700.00       2015-08-28  REDESIGNATION TO GENERAL       X   \n",
      "\n",
      "                        memo_text form_tp  file_num         tran_id  \\\n",
      "19       REDESIGNATION TO GENERAL   SA17A   1077664  SA17A.1826482B   \n",
      "23       REDESIGNATION TO GENERAL   SA17A   1077664  SA17A.1826483B   \n",
      "81       REDESIGNATION TO GENERAL   SA17A   1077664   SA17A.1827494   \n",
      "190      REDESIGNATION TO GENERAL   SA17A   1077664  SA17A.1639830B   \n",
      "213      REDESIGNATION TO GENERAL   SA17A   1077664  SA17A.1826888B   \n",
      "...                           ...     ...       ...             ...   \n",
      "1125008  REDESIGNATION TO GENERAL   SA17A   1053893    SA17.466666B   \n",
      "1125317   REATTRIBUTION TO SPOUSE   SA17A   1051204     SA17.A40065   \n",
      "1125427              CHARGED BACK   SA17A   1053893     SA17.440961   \n",
      "1125446  REDESIGNATION TO GENERAL   SA17A   1073637    SA17.817713B   \n",
      "1125582  REDESIGNATION TO GENERAL   SA17A   1053893    SA17.348532B   \n",
      "\n",
      "        election_tp  \n",
      "19            P2016  \n",
      "23            P2016  \n",
      "81            P2016  \n",
      "190           P2016  \n",
      "213           P2016  \n",
      "...             ...  \n",
      "1125008       P2016  \n",
      "1125317       P2016  \n",
      "1125427       P2016  \n",
      "1125446       P2016  \n",
      "1125582       P2016  \n",
      "\n",
      "[11896 rows x 18 columns]\n"
     ]
    }
   ],
   "source": [
    "# 1j YOUR CODE HERE\n",
    "print(contrib.fillna(0).query('contb_receipt_amt < 0'))"
   ]
  },
  {
   "cell_type": "markdown",
   "metadata": {},
   "source": [
    "- **1j answer here:**\n",
    "- **As per output 11896 rows are havving neagative amounts. These rows are redesignation to general or are refund amounts. These amounts do match with the expectation.**"
   ]
  },
  {
   "cell_type": "markdown",
   "metadata": {},
   "source": [
    "**1k.** One more column to look at is the date of donation column. Are there any dates outside of the primary period (defined as 1 Jan 2014 to 7 June 2016)? Are the dates well-formatted for our analysis? (5 points)"
   ]
  },
  {
   "cell_type": "code",
   "execution_count": 12,
   "metadata": {},
   "outputs": [
    {
     "name": "stdout",
     "output_type": "stream",
     "text": [
      "Empty DataFrame\n",
      "Columns: [cmte_id, cand_id, cand_nm, contbr_nm, contbr_city, contbr_st, contbr_zip, contbr_employer, contbr_occupation, contb_receipt_amt, contb_receipt_dt, receipt_desc, memo_cd, memo_text, form_tp, file_num, tran_id, election_tp]\n",
      "Index: []\n"
     ]
    }
   ],
   "source": [
    "# 1k YOUR CODE HERE\n",
    "start_date = '2014-01-01'\n",
    "end_date   = '2016-06-07'\n",
    "print(contrib.query('contb_receipt_dt < @start_date and contb_receipt_dt > @end_date'))"
   ]
  },
  {
   "cell_type": "markdown",
   "metadata": {},
   "source": [
    "- **1k answer here:**\n",
    "- **No date is outside 1 Jan 2014 to 7 June 2016.**"
   ]
  },
  {
   "cell_type": "markdown",
   "metadata": {
    "collapsed": true,
    "deletable": false,
    "nbgrader": {
     "checksum": "bffd2778d22127102347386bfb6f5b20",
     "grade": true,
     "grade_id": "cell-4ad1da24176f0450",
     "locked": false,
     "points": 0,
     "schema_version": 1,
     "solution": true
    }
   },
   "source": [
    "**1l.** Finally, answer the initial questions in the cells below (5 points)"
   ]
  },
  {
   "cell_type": "markdown",
   "metadata": {},
   "source": [
    "**1l.1** Do we have the correct # of columns and rows.\n",
    "\n",
    "- **1l.1 answer here:**\n",
    "- **Yes we have correct number of columns and rows.**"
   ]
  },
  {
   "cell_type": "markdown",
   "metadata": {},
   "source": [
    "**1l.2** Do the records contain data for the questions we want to answer?\n",
    "\n",
    "- **1l.2 answer here:**\n",
    "- **Yes records contain data for the questions we need to address.**"
   ]
  },
  {
   "cell_type": "markdown",
   "metadata": {},
   "source": [
    "**1l.3** What columns are important?\n",
    "\n",
    "- **1l.3 answer here:** \n",
    "- **cmte_id, cand_id, cand_nm, contbr_nm, contbr_city, contbr_st, contbr_zip, contb_receipt_amt, contb_receipt_dt,  memo_cd, memo_text, form_tp, tran_id, election_tp columns are important.**"
   ]
  },
  {
   "cell_type": "markdown",
   "metadata": {},
   "source": [
    "**1l.4** What columns can be dropped?\n",
    "\n",
    "- **1l.4 answer here:** \n",
    "- **receipt_desc column can be dropped**"
   ]
  },
  {
   "cell_type": "markdown",
   "metadata": {},
   "source": [
    "**1l.5** What are the data problems?\n",
    "\n",
    "- **1l.5 answer here:**\n",
    "- **Some of the observations are: memo_text and receipt_desc have redundant data. Zip codes are not five digit or uniform. There are duplicate rows in the file considering few rows have exactly same data for a transaction id.**"
   ]
  },
  {
   "cell_type": "markdown",
   "metadata": {},
   "source": [
    "**1l.6** List any assumptions so far:\n",
    "\n",
    "- **1l.6 answer here:**\n",
    "- **Benard Sandres  is not same as Bernie Sanders.**"
   ]
  },
  {
   "cell_type": "markdown",
   "metadata": {
    "collapsed": true,
    "deletable": false,
    "nbgrader": {
     "checksum": "14c2855e3d59f0da6b1afd5cf0da2da8",
     "grade": true,
     "grade_id": "cell-fd840cdd19d2bd2a",
     "locked": false,
     "points": 0,
     "schema_version": 1,
     "solution": true
    }
   },
   "source": [
    "***\n",
    "## 2. Data filtering and data quality fixes (30 points)\n",
    "\n",
    "Now that we have a basic understanding of the data, let's filter out the records we don't need and fix the data."
   ]
  },
  {
   "cell_type": "markdown",
   "metadata": {},
   "source": [
    "**2a.** From the dataset filter out (remove) any election_tp not in the primary election. Print/show the shape of the dataframe after the filtering is complete. (5 points)"
   ]
  },
  {
   "cell_type": "code",
   "execution_count": 13,
   "metadata": {
    "deletable": false,
    "nbgrader": {
     "checksum": "43ce3d15cee7ab73f53fd8f054c9826c",
     "grade": true,
     "grade_id": "cell-dce8d3107c1463ca",
     "locked": false,
     "points": 0,
     "schema_version": 1,
     "solution": true
    }
   },
   "outputs": [
    {
     "name": "stdout",
     "output_type": "stream",
     "text": [
      "(315171, 18)\n"
     ]
    }
   ],
   "source": [
    "# 2a YOUR CODE HERE\n",
    "df5 = contrib[contrib.election_tp.str[0] != 'P']\n",
    "print(df5.shape)"
   ]
  },
  {
   "cell_type": "markdown",
   "metadata": {
    "deletable": false,
    "nbgrader": {
     "checksum": "a5f4e6df0f32e24c492a9589ec87fef6",
     "grade": true,
     "grade_id": "cell-9e3f68b21dac8e10",
     "locked": false,
     "points": 0,
     "schema_version": 1,
     "solution": true
    }
   },
   "source": [
    "**2b.** From the dataset filter out (remove) any candidate that is not Bernie Sanders. Print/show the shape of the dataframe after the filtering is complete. (5 points)"
   ]
  },
  {
   "cell_type": "code",
   "execution_count": 101,
   "metadata": {
    "deletable": false,
    "nbgrader": {
     "checksum": "4f1a9e7ee0ded9d2b5af5777cb85e505",
     "grade": true,
     "grade_id": "cell-c14fbed9d72d54e3",
     "locked": false,
     "points": 0,
     "schema_version": 1,
     "solution": true
    }
   },
   "outputs": [
    {
     "name": "stdout",
     "output_type": "stream",
     "text": [
      "(315171, 18)\n"
     ]
    }
   ],
   "source": [
    "# 2b YOUR CODE HERE\n",
    "list_values = [\"Bernie Sanders\"]\n",
    "df6 = df5[~df5['cand_nm'].isin(list_values)]\n",
    "print(df6.shape)"
   ]
  },
  {
   "cell_type": "markdown",
   "metadata": {},
   "source": [
    "**2c.** The `contbr_zip` column is not formatted well for our analysis. Make a new zipcode column that is the five-digit zipcodes. Filter out any records outside of California based on the zipcode. Print/show the shape of the dataframe after the filtering is complete. (10 points).\n",
    "\n",
    "- You will have to research what the valid 5-digit zipcodes for California are!"
   ]
  },
  {
   "cell_type": "code",
   "execution_count": 123,
   "metadata": {},
   "outputs": [
    {
     "name": "stdout",
     "output_type": "stream",
     "text": [
      "(314976, 19)\n"
     ]
    }
   ],
   "source": [
    "# 2c YOUR CODE HERE\n",
    "df8 = df6\n",
    "df8['contbr_zip_5'] = df8['contbr_zip'].str[:5].fillna(0).astype(int) #fillna is used to replace NAN values with zero so that new column can be casted as int.\n",
    "df9 = df8.query('contbr_zip_5 >= 90001 and contbr_zip_5 <= 96162' ) #This range is for CA Zipcodes\n",
    "print(df9.shape)\n"
   ]
  },
  {
   "cell_type": "markdown",
   "metadata": {},
   "source": [
    "**2d.** The receipt amount column has negative donations. After talking with your team, a decision was made that the best course of action is to remove these negative values so that the donation count and amount is more accurate. Print/show the shape of the dataframe after the filtering is complete. (5 points)"
   ]
  },
  {
   "cell_type": "code",
   "execution_count": 118,
   "metadata": {},
   "outputs": [
    {
     "name": "stdout",
     "output_type": "stream",
     "text": [
      "(311624, 19)\n"
     ]
    }
   ],
   "source": [
    "# 2d YOUR CODE HERE\n",
    "df10 = df9.query('contb_receipt_amt >= 0')\n",
    "print(df10.shape)"
   ]
  },
  {
   "cell_type": "markdown",
   "metadata": {},
   "source": [
    "**2e.** From the dataset drop any columns that won't be used in the analysis. Print/show the shape of the dataframe after the dropping is complete. What columns did you drop and why? (5 points)"
   ]
  },
  {
   "cell_type": "code",
   "execution_count": 119,
   "metadata": {},
   "outputs": [
    {
     "name": "stdout",
     "output_type": "stream",
     "text": [
      "(311624, 18)\n"
     ]
    }
   ],
   "source": [
    "# 2e YOUR CODE HERE\n",
    "#receipt_desc         1110614\n",
    "df11 = df10.drop(['receipt_desc'], axis=1)\n",
    "print(df11.shape)"
   ]
  },
  {
   "cell_type": "markdown",
   "metadata": {},
   "source": [
    "- **2e answer here:**\n",
    "- **receipt_desc is dropped as it has maximum null values and memo_text column has same data as receipt_desc for most of the non-null rows."
   ]
  },
  {
   "cell_type": "markdown",
   "metadata": {},
   "source": [
    "**2f.** List any assumptions that you made up to this point:"
   ]
  },
  {
   "cell_type": "markdown",
   "metadata": {},
   "source": [
    "- **2f answer here:**\n",
    "- **Sandres Benard is not same as Bernie Sanders. Duplicate transaction id rows are still there**"
   ]
  },
  {
   "cell_type": "markdown",
   "metadata": {
    "deletable": false,
    "nbgrader": {
     "checksum": "6dc1481a003cdd752c5edfa9ac400879",
     "grade": true,
     "grade_id": "cell-f7a01ce9c5b10ac7",
     "locked": false,
     "points": 0,
     "schema_version": 1,
     "solution": true
    }
   },
   "source": [
    "***\n",
    "## 3. Answering the questions (20 points)\n",
    "\n",
    "Now that the data is cleaned and filterd - let's answer the two questions from your boss!"
   ]
  },
  {
   "cell_type": "markdown",
   "metadata": {
    "deletable": false,
    "nbgrader": {
     "checksum": "010f5de5f6af4c7f830d1cf7a81bbc0f",
     "grade": true,
     "grade_id": "cell-5617179133b06d0c",
     "locked": false,
     "points": 0,
     "schema_version": 1,
     "solution": true
    }
   },
   "source": [
    "**3a.** Which zipcode had the highest count of contributions and the most dollar amount? (10 points)"
   ]
  },
  {
   "cell_type": "code",
   "execution_count": 120,
   "metadata": {},
   "outputs": [
    {
     "name": "stdout",
     "output_type": "stream",
     "text": [
      "contbr_zip_5\n",
      "94114    3387\n",
      "94110    3027\n",
      "94611    2602\n",
      "90046    2178\n",
      "90069    2033\n",
      "         ... \n",
      "92605       1\n",
      "92581       1\n",
      "95526       1\n",
      "95528       1\n",
      "95487       1\n",
      "Name: contb_receipt_amt, Length: 1928, dtype: int64\n",
      "contbr_zip_5\n",
      "94114   702,180.21\n",
      "94301   638,905.06\n",
      "90049   624,604.93\n",
      "94110   539,026.32\n",
      "90210   534,369.86\n",
      "           ...    \n",
      "93242         8.00\n",
      "95412         8.00\n",
      "95234         4.00\n",
      "96035         4.00\n",
      "95528         0.80\n",
      "Name: contb_receipt_amt, Length: 1928, dtype: float64\n"
     ]
    }
   ],
   "source": [
    "# 3a YOUR CODE HERE\n",
    "df12=df11.groupby('contbr_zip_5')['contb_receipt_amt'].count().sort_values(ascending=False) # Count of contribution, hence count of amount is taken. Other column can be taken as well.\n",
    "df13=df11.groupby('contbr_zip_5')['contb_receipt_amt'].sum().sort_values(ascending=False)\n",
    "print(df12) #Can print top five rows using head to keep it clean but wanted to see larger output.\n",
    "print(df13) #Can print top five rows using head to keep it clean but wanted to see larger output.\n"
   ]
  },
  {
   "cell_type": "markdown",
   "metadata": {},
   "source": [
    "- **3a answer here:** \n",
    "- **94114 Zip code has highest count of contributions. 94114 Zip code has most dollar amount of contribution considering data filters which were asked to be applied.**"
   ]
  },
  {
   "cell_type": "markdown",
   "metadata": {},
   "source": [
    "**3b.** What day(s) of the month do most people donate? (10 points)"
   ]
  },
  {
   "cell_type": "code",
   "execution_count": 121,
   "metadata": {},
   "outputs": [
    {
     "name": "stdout",
     "output_type": "stream",
     "text": [
      "contb_receipt_dt\n",
      "2016-09-30   1,188,839.67\n",
      "2016-09-26   1,076,952.45\n",
      "2016-07-29     995,646.64\n",
      "2016-09-27     908,279.98\n",
      "2016-09-28     839,150.94\n",
      "2016-08-31     810,353.64\n",
      "2016-07-28     809,420.71\n",
      "2016-10-19     807,885.15\n",
      "2016-09-29     801,298.64\n",
      "2016-09-16     627,262.78\n",
      "2016-10-18     626,030.91\n",
      "2016-08-01     614,006.92\n",
      "2016-09-20     603,899.33\n",
      "2016-08-09     603,064.79\n",
      "2016-09-15     595,681.02\n",
      "2016-09-21     583,877.33\n",
      "2016-08-03     579,306.82\n",
      "2016-09-23     578,284.75\n",
      "2016-09-14     577,495.39\n",
      "2016-07-31     571,728.34\n",
      "2016-08-05     560,565.76\n",
      "2016-10-09     547,271.12\n",
      "2016-09-19     546,551.96\n",
      "2016-08-02     544,936.51\n",
      "2016-08-08     539,849.54\n",
      "2016-10-10     535,070.12\n",
      "2016-08-15     532,631.31\n",
      "2016-09-07     517,680.27\n",
      "2016-08-10     511,511.84\n",
      "2016-08-12     509,880.06\n",
      "2016-08-04     506,199.30\n",
      "2016-09-12     499,940.83\n",
      "2016-08-17     499,165.78\n",
      "2016-07-30     490,594.83\n",
      "2016-08-22     486,196.00\n",
      "2016-08-16     484,970.45\n",
      "2016-08-30     484,917.41\n",
      "2016-10-17     483,368.19\n",
      "2016-09-08     480,284.18\n",
      "2016-10-04     473,543.83\n",
      "2016-10-07     467,449.50\n",
      "2016-08-11     464,969.13\n",
      "2016-07-27     458,559.53\n",
      "2016-10-14     449,322.82\n",
      "2016-09-06     448,710.71\n",
      "2016-10-11     446,394.50\n",
      "2016-08-19     446,066.08\n",
      "2016-10-05     438,181.31\n",
      "2016-10-03     436,828.81\n",
      "2016-10-12     433,264.53\n",
      "2016-09-09     429,949.62\n",
      "2016-09-13     425,321.08\n",
      "2016-09-01     419,944.54\n",
      "2016-09-22     417,941.68\n",
      "2016-08-29     412,230.43\n",
      "2016-10-01     406,009.92\n",
      "2016-10-06     398,569.68\n",
      "2016-10-13     396,683.83\n",
      "2016-08-18     368,357.19\n",
      "2016-08-23     362,629.10\n",
      "2016-10-08     362,003.76\n",
      "2016-10-02     326,670.09\n",
      "2016-09-25     320,535.25\n",
      "2016-08-25     319,623.96\n",
      "2016-08-24     302,678.20\n",
      "2016-09-18     279,923.51\n",
      "2016-09-24     279,037.26\n",
      "2016-09-17     274,671.35\n",
      "2016-08-07     273,961.24\n",
      "2016-10-16     268,804.02\n",
      "2016-10-15     266,640.33\n",
      "2016-09-10     262,883.73\n",
      "2016-08-06     258,081.46\n",
      "2016-08-20     251,857.27\n",
      "2016-08-26     249,974.82\n",
      "2016-09-02     242,039.08\n",
      "2016-08-21     226,350.49\n",
      "2016-08-13     202,010.58\n",
      "2016-08-28     195,916.79\n",
      "2016-07-25     195,703.56\n",
      "2016-09-11     167,072.81\n",
      "2016-08-27     151,464.38\n",
      "2016-08-14     146,716.07\n",
      "2016-07-22     145,922.99\n",
      "2016-06-27     136,787.41\n",
      "2016-06-08     136,342.64\n",
      "2016-09-05     133,246.23\n",
      "2016-09-03     131,633.80\n",
      "2015-09-30     125,645.24\n",
      "2016-06-28     125,509.70\n",
      "2016-06-30     121,322.67\n",
      "2016-09-04     116,618.56\n",
      "2016-07-26     101,558.51\n",
      "2015-06-30      99,691.84\n",
      "2016-06-24      99,478.37\n",
      "2016-06-23      97,773.31\n",
      "2015-12-31      93,533.51\n",
      "2016-05-03      93,240.55\n",
      "2016-06-21      93,180.84\n",
      "2016-07-11      90,870.06\n",
      "2016-05-31      90,853.33\n",
      "2016-01-31      87,136.94\n",
      "2015-06-12      86,344.18\n",
      "2016-05-25      85,799.22\n",
      "2016-06-09      80,850.38\n",
      "2016-06-15      80,517.55\n",
      "2016-06-22      76,972.64\n",
      "2016-06-20      76,686.37\n",
      "2016-06-26      73,375.91\n",
      "2016-06-29      70,394.45\n",
      "2016-07-23      69,687.59\n",
      "2015-12-08      67,115.00\n",
      "2016-06-25      64,552.62\n",
      "2016-06-10      58,397.75\n",
      "2016-07-24      58,148.45\n",
      "2016-04-30      52,606.34\n",
      "2016-07-21      52,040.36\n",
      "2016-07-08      50,729.31\n",
      "2016-03-15      49,718.55\n",
      "2016-06-16      45,599.01\n",
      "2015-12-28      45,146.91\n",
      "2016-07-13      45,120.22\n",
      "2016-07-18      44,596.44\n",
      "2016-07-20      44,148.06\n",
      "2016-07-06      42,510.45\n",
      "2016-07-19      40,349.89\n",
      "2016-06-14      40,215.24\n",
      "2016-02-29      38,687.25\n",
      "2016-06-06      37,043.34\n",
      "2016-06-13      36,935.91\n",
      "2016-06-12      35,872.91\n",
      "2016-06-17      35,861.76\n",
      "2016-06-11      34,890.09\n",
      "2016-03-21      34,428.66\n",
      "2016-07-01      32,935.30\n",
      "2016-07-07      32,718.88\n",
      "2016-06-07      28,645.85\n",
      "2015-08-28      28,640.15\n",
      "2015-06-26      27,210.00\n",
      "2016-03-18      26,101.85\n",
      "2016-05-04      26,087.19\n",
      "2016-07-14      25,391.51\n",
      "2016-03-31      25,293.86\n",
      "2015-09-27      23,996.50\n",
      "2016-03-20      23,795.46\n",
      "2016-06-19      23,330.00\n",
      "2016-02-19      23,277.40\n",
      "2016-05-17      22,927.57\n",
      "2016-05-28      22,926.48\n",
      "2016-07-12      22,497.06\n",
      "2015-11-27      22,310.00\n",
      "2015-11-03      21,730.00\n",
      "2015-09-21      21,430.40\n",
      "2016-03-14      21,336.07\n",
      "2016-05-20      21,199.00\n",
      "2016-04-28      20,902.00\n",
      "2016-07-17      20,432.35\n",
      "2015-07-06      20,400.00\n",
      "2016-05-23      19,925.16\n",
      "2016-05-18      19,848.00\n",
      "2016-07-05      19,644.89\n",
      "2016-03-16      19,209.14\n",
      "2016-03-19      17,656.75\n",
      "2016-05-16      17,246.00\n",
      "2016-07-16      16,931.68\n",
      "2016-04-21      16,876.15\n",
      "2015-04-27      16,300.00\n",
      "2015-04-12      16,203.00\n",
      "2016-05-02      15,768.37\n",
      "2016-05-27      15,747.64\n",
      "2015-10-09      15,723.00\n",
      "2016-01-11      15,619.25\n",
      "2016-02-08      15,538.62\n",
      "2016-02-05      15,480.87\n",
      "2015-10-22      15,395.16\n",
      "2015-09-22      15,125.00\n",
      "2016-04-01      14,875.00\n",
      "2015-06-18      14,850.00\n",
      "2016-04-20      14,690.51\n",
      "2016-03-24      14,555.16\n",
      "2015-09-11      14,250.00\n",
      "2015-12-14      14,211.78\n",
      "2016-05-05      14,086.74\n",
      "2015-10-20      13,850.00\n",
      "2015-04-30      13,736.00\n",
      "2015-12-30      13,629.00\n",
      "2016-02-01      13,562.20\n",
      "2016-02-16      13,504.75\n",
      "2015-04-18      13,500.00\n",
      "2015-10-19      13,132.00\n",
      "2015-05-12      13,100.00\n",
      "2016-01-25      12,985.80\n",
      "2015-12-11      12,950.00\n",
      "2015-08-14      12,910.00\n",
      "2015-11-17      12,755.48\n",
      "2016-04-27      12,509.13\n",
      "2016-07-09      12,385.00\n",
      "2016-06-04      12,181.50\n",
      "2015-09-24      12,030.00\n",
      "2016-07-04      11,980.43\n",
      "2016-06-05      11,912.00\n",
      "2016-03-22      11,858.00\n",
      "2016-01-06      11,808.00\n",
      "2015-10-15      11,730.00\n",
      "2016-07-02      11,663.06\n",
      "2015-12-12      11,640.00\n",
      "2016-04-11      11,519.00\n",
      "2016-06-18      11,312.03\n",
      "2016-04-26      11,280.00\n",
      "2015-08-04      11,273.09\n",
      "2016-05-06      10,692.91\n",
      "2016-02-18      10,654.25\n",
      "2016-02-10      10,588.72\n",
      "2016-03-10      10,575.00\n",
      "2016-06-03      10,564.74\n",
      "2016-04-15      10,273.04\n",
      "2016-02-15      10,165.13\n",
      "2016-05-22      10,040.00\n",
      "2015-07-15      10,000.00\n",
      "2016-01-04       9,900.00\n",
      "2015-05-20       9,866.28\n",
      "2016-03-17       9,796.13\n",
      "2016-01-05       9,750.00\n",
      "2015-11-02       9,740.00\n",
      "2016-02-09       9,719.75\n",
      "2015-11-10       9,701.00\n",
      "2016-05-24       9,685.00\n",
      "2016-05-11       9,529.63\n",
      "2016-01-08       9,517.00\n",
      "2016-06-02       9,510.53\n",
      "2016-04-29       9,508.09\n",
      "2016-05-30       9,495.65\n",
      "2016-03-09       9,487.88\n",
      "2015-08-20       9,300.00\n",
      "2015-10-02       9,200.00\n",
      "2015-06-23       9,178.98\n",
      "2015-06-25       9,175.00\n",
      "2015-06-24       9,100.00\n",
      "2015-11-19       9,100.00\n",
      "2016-04-19       9,049.88\n",
      "2015-12-01       9,000.00\n",
      "2016-01-07       8,994.81\n",
      "2016-03-11       8,914.39\n",
      "2016-02-12       8,864.20\n",
      "2016-02-22       8,840.00\n",
      "2016-05-01       8,825.00\n",
      "2015-07-27       8,800.00\n",
      "2016-02-17       8,750.78\n",
      "2016-04-18       8,734.27\n",
      "2016-02-07       8,633.00\n",
      "2015-08-23       8,620.16\n",
      "2016-06-01       8,562.89\n",
      "2015-12-10       8,515.00\n",
      "2015-04-28       8,455.00\n",
      "2015-10-28       8,430.00\n",
      "2015-10-30       8,393.51\n",
      "2016-02-23       8,363.80\n",
      "2015-07-07       8,353.00\n",
      "2015-04-24       8,350.00\n",
      "2015-11-09       8,350.00\n",
      "2016-01-30       8,303.00\n",
      "2016-02-11       8,286.04\n",
      "2016-05-12       8,241.84\n",
      "2015-07-13       8,210.00\n",
      "2016-07-15       8,182.20\n",
      "2015-05-06       8,150.00\n",
      "2015-08-10       8,125.00\n",
      "2015-05-11       8,100.00\n",
      "2016-05-15       8,088.00\n",
      "2015-08-29       7,977.68\n",
      "2016-04-25       7,959.00\n",
      "2015-08-07       7,912.50\n",
      "2016-05-13       7,894.00\n",
      "2015-10-21       7,800.00\n",
      "2015-12-18       7,794.91\n",
      "2015-11-16       7,706.50\n",
      "2016-05-09       7,655.00\n",
      "2015-10-14       7,614.31\n",
      "2015-09-14       7,604.68\n",
      "2016-07-10       7,571.31\n",
      "2015-10-27       7,526.00\n",
      "2015-12-16       7,440.00\n",
      "2015-08-05       7,405.00\n",
      "2015-08-21       7,322.44\n",
      "2016-03-07       7,169.64\n",
      "2016-02-26       7,150.00\n",
      "2016-03-28       7,111.00\n",
      "2015-09-09       7,110.00\n",
      "2015-09-15       6,835.00\n",
      "2016-02-06       6,785.00\n",
      "2016-05-21       6,785.00\n",
      "2015-09-01       6,780.00\n",
      "2015-05-26       6,664.88\n",
      "2015-11-04       6,661.69\n",
      "2016-01-19       6,656.29\n",
      "2016-01-27       6,532.12\n",
      "2016-05-19       6,453.33\n",
      "2015-12-21       6,321.00\n",
      "2016-02-21       6,226.00\n",
      "2016-03-23       6,206.91\n",
      "2015-12-02       6,200.00\n",
      "2016-01-15       6,049.04\n",
      "2016-05-10       6,038.14\n",
      "2016-07-03       5,995.82\n",
      "2016-01-14       5,925.00\n",
      "2016-05-14       5,894.15\n",
      "2016-03-12       5,805.00\n",
      "2015-07-22       5,736.69\n",
      "2015-06-02       5,696.43\n",
      "2015-12-15       5,670.00\n",
      "2015-07-31       5,530.00\n",
      "2015-09-20       5,510.00\n",
      "2015-07-11       5,500.00\n",
      "2015-12-13       5,495.00\n",
      "2016-04-04       5,460.00\n",
      "2015-04-08       5,450.00\n",
      "2015-11-29       5,410.00\n",
      "2015-08-03       5,408.00\n",
      "2015-08-30       5,403.00\n",
      "2015-03-20       5,400.00\n",
      "2015-06-11       5,400.00\n",
      "2015-06-17       5,400.00\n",
      "2015-08-27       5,400.00\n",
      "2015-04-13       5,400.00\n",
      "2015-09-02       5,400.00\n",
      "2015-07-29       5,308.09\n",
      "2015-11-30       5,285.80\n",
      "2016-05-29       5,168.24\n",
      "2015-05-01       5,165.00\n",
      "2016-02-27       5,150.14\n",
      "2016-03-13       5,090.00\n",
      "2015-04-25       5,040.00\n",
      "2015-05-08       5,000.00\n",
      "2015-06-01       4,952.82\n",
      "2015-08-25       4,935.00\n",
      "2015-10-29       4,910.00\n",
      "2016-01-24       4,850.37\n",
      "2016-02-13       4,835.82\n",
      "2015-10-01       4,805.00\n",
      "2016-01-18       4,800.00\n",
      "2016-01-13       4,760.00\n",
      "2015-06-05       4,619.54\n",
      "2015-03-11       4,600.00\n",
      "2015-11-06       4,400.00\n",
      "2016-01-01       4,395.00\n",
      "2015-10-23       4,370.35\n",
      "2016-02-24       4,325.00\n",
      "2015-12-29       4,272.19\n",
      "2016-04-22       4,251.00\n",
      "2016-01-16       4,200.00\n",
      "2015-09-28       4,191.29\n",
      "2015-09-10       4,178.08\n",
      "2015-06-03       4,100.00\n",
      "2015-06-16       4,051.89\n",
      "2015-12-27       4,026.00\n",
      "2015-11-24       4,020.00\n",
      "2015-10-25       4,011.49\n",
      "2016-02-04       3,995.00\n",
      "2015-09-18       3,969.25\n",
      "2015-08-17       3,930.00\n",
      "2015-07-16       3,900.00\n",
      "2015-06-22       3,864.78\n",
      "2016-03-08       3,813.32\n",
      "2015-11-18       3,800.00\n",
      "2015-07-24       3,800.00\n",
      "2015-06-08       3,799.23\n",
      "2015-05-05       3,766.00\n",
      "2015-04-21       3,740.00\n",
      "2015-04-14       3,740.00\n",
      "2015-08-13       3,720.00\n",
      "2016-04-09       3,717.00\n",
      "2016-03-04       3,700.00\n",
      "2015-11-14       3,497.16\n",
      "2016-04-06       3,495.50\n",
      "2016-04-05       3,439.00\n",
      "2016-04-12       3,396.00\n",
      "2015-11-22       3,305.00\n",
      "2015-06-10       3,225.24\n",
      "2015-09-03       3,205.00\n",
      "2015-08-15       3,200.16\n",
      "2015-04-17       3,200.00\n",
      "2015-10-10       3,130.00\n",
      "2015-12-04       3,130.00\n",
      "2015-04-15       3,100.00\n",
      "2016-04-10       3,100.00\n",
      "2015-09-13       3,040.00\n",
      "2016-01-20       2,995.00\n",
      "2015-06-09       2,925.00\n",
      "2016-03-29       2,912.00\n",
      "2015-06-13       2,905.70\n",
      "2015-12-19       2,900.00\n",
      "2015-10-08       2,875.00\n",
      "2015-10-24       2,873.19\n",
      "2016-01-29       2,870.12\n",
      "2015-07-28       2,850.00\n",
      "2015-07-09       2,846.00\n",
      "2015-11-20       2,840.00\n",
      "2015-06-15       2,825.00\n",
      "2015-04-29       2,825.00\n",
      "2015-12-07       2,813.00\n",
      "2015-08-19       2,800.45\n",
      "2015-11-25       2,800.00\n",
      "2015-05-07       2,800.00\n",
      "2016-02-03       2,790.16\n",
      "2015-06-04       2,775.00\n",
      "2015-09-25       2,761.69\n",
      "2015-11-28       2,761.00\n",
      "2015-09-07       2,750.00\n",
      "2015-07-14       2,735.00\n",
      "2015-09-05       2,725.00\n",
      "2015-11-23       2,720.16\n",
      "2015-05-22       2,720.00\n",
      "2015-08-18       2,716.64\n",
      "2015-05-15       2,716.00\n",
      "2015-04-22       2,705.00\n",
      "2015-07-01       2,700.69\n",
      "2015-05-29       2,700.00\n",
      "2015-06-29       2,700.00\n",
      "2015-07-25       2,700.00\n",
      "2015-04-20       2,700.00\n",
      "2015-09-08       2,700.00\n",
      "2015-03-31       2,700.00\n",
      "2015-03-18       2,700.00\n",
      "2015-03-30       2,700.00\n",
      "2015-10-18       2,575.00\n",
      "2015-10-12       2,500.00\n",
      "2015-05-27       2,426.40\n",
      "2014-12-30       2,400.00\n",
      "2015-12-22       2,376.00\n",
      "2016-03-05       2,278.64\n",
      "2015-10-16       2,205.00\n",
      "2016-02-20       2,176.75\n",
      "2016-02-28       2,110.00\n",
      "2016-01-21       2,109.00\n",
      "2015-11-05       2,050.00\n",
      "2015-09-12       2,048.14\n",
      "2015-12-23       2,045.16\n",
      "2016-02-02       2,030.80\n",
      "2014-09-22       2,000.00\n",
      "2016-01-12       1,991.00\n",
      "2015-07-04       1,988.75\n",
      "2016-05-26       1,928.34\n",
      "2016-02-14       1,800.00\n",
      "2016-04-02       1,783.00\n",
      "2016-03-25       1,753.32\n",
      "2015-09-23       1,570.16\n",
      "2016-01-03       1,451.00\n",
      "2016-03-27       1,423.00\n",
      "2015-11-13       1,345.00\n",
      "2015-07-23       1,320.16\n",
      "2016-04-16       1,320.00\n",
      "2015-12-24       1,300.00\n",
      "2016-04-23       1,285.57\n",
      "2015-12-03       1,255.00\n",
      "2015-05-04       1,215.00\n",
      "2016-04-13       1,155.00\n",
      "2016-02-25       1,144.00\n",
      "2016-03-06       1,025.00\n",
      "2015-11-01       1,015.54\n",
      "2016-03-03       1,011.00\n",
      "2016-01-09       1,000.00\n",
      "2016-04-17         959.95\n",
      "2015-10-13         921.00\n",
      "2015-09-16         866.74\n",
      "2016-03-01         830.41\n",
      "2015-07-26         825.00\n",
      "2015-10-26         810.00\n",
      "2015-11-15         703.00\n",
      "2016-01-28         701.00\n",
      "2015-09-17         700.00\n",
      "2015-12-06         700.00\n",
      "2016-05-08         680.00\n",
      "2015-06-19         650.00\n",
      "2016-04-07         641.83\n",
      "2016-03-02         631.00\n",
      "2015-08-06         627.64\n",
      "2015-05-30         613.30\n",
      "2015-11-11         600.00\n",
      "2015-09-19         600.00\n",
      "2015-06-14         594.91\n",
      "2016-01-10         557.61\n",
      "2015-07-17         550.00\n",
      "2016-03-30         550.00\n",
      "2016-04-14         548.00\n",
      "2015-04-23         515.00\n",
      "2015-08-11         501.00\n",
      "2015-12-17         500.00\n",
      "2015-11-12         500.00\n",
      "2015-10-31         500.00\n",
      "2015-10-07         500.00\n",
      "2015-07-10         476.00\n",
      "2016-04-08         465.00\n",
      "2016-05-07         420.50\n",
      "2015-05-21         400.00\n",
      "2015-06-28         400.00\n",
      "2015-12-26         350.00\n",
      "2015-12-20         330.00\n",
      "2015-12-09         320.00\n",
      "2015-08-24         301.64\n",
      "2015-08-09         300.76\n",
      "2015-05-03         300.32\n",
      "2015-06-06         281.49\n",
      "2015-09-06         252.34\n",
      "2015-11-21         250.00\n",
      "2015-04-16         240.00\n",
      "2016-04-24         226.00\n",
      "2015-07-02         222.90\n",
      "2015-08-31         216.00\n",
      "2016-01-22         203.00\n",
      "2015-08-16         200.00\n",
      "2015-04-26         200.00\n",
      "2015-05-16         200.00\n",
      "2016-03-26         200.00\n",
      "2015-08-26         189.05\n",
      "2016-01-26         155.00\n",
      "2016-01-02         130.00\n",
      "2015-05-28         118.74\n",
      "2015-08-01         117.00\n",
      "2016-01-23         115.16\n",
      "2015-09-29         111.08\n",
      "2015-10-11         110.00\n",
      "2015-07-18         109.18\n",
      "2015-06-07         107.39\n",
      "2015-12-25         100.00\n",
      "2015-11-08         100.00\n",
      "2015-05-02         100.00\n",
      "2015-04-11          58.50\n",
      "2016-04-03          56.00\n",
      "2015-08-12          50.00\n",
      "2015-07-21          50.00\n",
      "2015-10-04          50.00\n",
      "2016-01-17          50.00\n",
      "2015-06-20          40.00\n",
      "2015-10-03          30.00\n",
      "2015-07-30          26.00\n",
      "2015-09-04          25.00\n",
      "2015-10-17          25.00\n",
      "2015-05-23          20.15\n",
      "2015-05-24          20.00\n",
      "2013-11-05          20.00\n",
      "2015-07-08          13.00\n",
      "2015-06-27          10.00\n",
      "2015-11-07           3.00\n",
      "2015-09-26           2.00\n",
      "Name: contb_receipt_amt, dtype: float64\n"
     ]
    }
   ],
   "source": [
    "# 3b YOUR CODE HERE\n",
    "\n",
    "df23=df11.groupby(['contb_receipt_dt'])['contb_receipt_amt'].sum().sort_values(ascending=False)\n",
    "print(df23)\n"
   ]
  },
  {
   "cell_type": "markdown",
   "metadata": {},
   "source": [
    "- **3b answer here:** \n",
    "- **Above output indicates that top five contributions were made on the last four days working days of the month. These days also could be payroll processing days for people who are on bi-weekly payroll. 07/29 and 09/30 are last working day of the month as well as payroll day for most of the pay cycles. 09/26 is monday and is payroll processing days for companies having monday pay cycle. This has resulted in maximum contribution on these days."
   ]
  },
  {
   "cell_type": "markdown",
   "metadata": {},
   "source": [
    "## If you have feedback for this homework, please submit it using the link below:\n",
    "\n",
    "http://goo.gl/forms/74yCiQTf6k"
   ]
  }
 ],
 "metadata": {
  "kernelspec": {
   "display_name": "Python 3 (ipykernel)",
   "language": "python",
   "name": "python3"
  },
  "language_info": {
   "codemirror_mode": {
    "name": "ipython",
    "version": 3
   },
   "file_extension": ".py",
   "mimetype": "text/x-python",
   "name": "python",
   "nbconvert_exporter": "python",
   "pygments_lexer": "ipython3",
   "version": "3.10.9"
  }
 },
 "nbformat": 4,
 "nbformat_minor": 2
}
