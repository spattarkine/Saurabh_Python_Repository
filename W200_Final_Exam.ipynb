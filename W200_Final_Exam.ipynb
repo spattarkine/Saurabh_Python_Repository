{
 "cells": [
  {
   "cell_type": "markdown",
   "metadata": {
    "id": "DQg2BdFIg7TM"
   },
   "source": [
    "# W200 Introduction to Data Science Programming, UC Berkeley MIDS\n",
    "\n",
    "\n",
    "## Instructions\n",
    "The final exam is designed to evaluate your grasp of Python theory as well as Python coding.\n",
    "\n",
    "- This is an individual exam.\n",
    "- You have 48 hours to complete the exam, starting from the point at which you first access it.\n",
    "- You will be graded on the quality of your answers.  Use clear, persuasive arguments based on concepts we covered in class.\n",
    "- Please double-click the markdown cells where it says \"Your answer here\" to input answers (if you need more cells please make them markdown cells)\n",
    "- Use only Python standard libraries, matplotlib, seaborn, NumPy and Pandas for this exam\n",
    "- Upload your exam to gradescope and your github repo in the folder /SUBMISSIONS/final_exam/. **The code version uploaded to Part 2 will be your official version for grading purposes.**\n",
    "- There is no autograder for this notebook - your exam will be manually graded.\n",
    "- Please restart and run all cells before submitting so that all of your answers are shown. You do not need to upload the dataset into gradescope or github."
   ]
  },
  {
   "cell_type": "markdown",
   "metadata": {
    "id": "hfJDE2HWg7TT"
   },
   "source": [
    "## YOUR NAME HERE\n",
    "Saurabh Milind Pattarkine"
   ]
  },
  {
   "cell_type": "markdown",
   "metadata": {
    "id": "Dxxzo-O4g7TU"
   },
   "source": [
    "## 1: Short Answer Questions (25 pts - each question = 5 pts)\n",
    "\n",
    "a) The following class ```Cart``` and method ```add_to_cart``` are parts of a larger program used by a mobile phone company.  The method ```add_to_cart``` will work when an object of type MobileDevice or of type ServiceContract is passed to it. State whether the method ```add_to_cart``` is a demonstration of the following items (yes/no) and the reasoning (1-2 sentences): \n",
    "\n",
    "    1. Inheritance\n",
    "    2. Polymorphism \n",
    "    3. Object-Oriented programming\n",
    "    4. Top-down design \n",
    "    5. Functional programming "
   ]
  },
  {
   "cell_type": "code",
   "execution_count": null,
   "metadata": {
    "id": "okLhQLwfg7TV"
   },
   "outputs": [],
   "source": [
    "# Method:\n",
    "class Cart():\n",
    "    \n",
    "    def __init__(self):\n",
    "        self.cart = []\n",
    "        self.total = 0\n",
    "    \n",
    "    def add_to_cart(self, item):\n",
    "        self.cart.append(item)\n",
    "        self.total += item.price"
   ]
  },
  {
   "cell_type": "markdown",
   "metadata": {
    "id": "syKK8Dj_g7Ta"
   },
   "source": [
    "- a) Your answer here\n",
    "\n",
    "Inheritance: No \n",
    "Reasoning: The add_to_cart method works with objects of type MobileDevice and ServiceContract, which suggests that these classes might inherit from a common superclass like product etc. However, this is an assumption and nothing is specidied explicitly in this area. Hence I have marked answer as No.\n",
    "\n",
    "Polymorphism: Yes\n",
    "Reasoning: Polymorphism means one name but different forms. The add_to_cart method can accept different types of objects (e.g., MobileDevice or ServiceContract) and perform a common action (append to self.cart and update self.total). This is an example of polymorphism, where different classes can be treated as instances of a common base class.\n",
    "\n",
    "Object-Oriented Programming: Yes\n",
    "Reasoning: Code example in this case defines a class Cart, encapsulates data (such as self.cart and self.total) within objects of that class, and provides a method (add_to_cart) for interacting with those objects. It is also following polymorphism and hence I have marked this question as Yes.\n",
    "\n",
    "Top-down Design: No\n",
    "Reasoning: Top-down design refers to a structured approach where a problem is broken down into smaller sub-problems. The provided code snippet doesn't demonstrate this particular approach explicitly. It's a method within a class, which is a part of a larger program, but there's not enough information to determine if it's developed using top-down design. Hence I have marked the answer as No.\n",
    "\n",
    "Functional Programming: No\n",
    "Reasoning: Functional programming focuses on using functions as the primary building blocks of a program. While the add_to_cart method is a function, the overall code snippet and the concept of a shopping cart are more aligned with object-oriented programming than functional programming. Hence I have marked this anwer as No."
   ]
  },
  {
   "cell_type": "markdown",
   "metadata": {
    "id": "JdTWk7xZg7Ta"
   },
   "source": [
    "b) Suppose you have a long list of digits (0-9) that you want to write to a file.  From a storage standpoint, would it be more efficient to use ASCII or UTF-8 as an encoding? What is the most efficient way to create an even smaller file to store the information?"
   ]
  },
  {
   "cell_type": "markdown",
   "metadata": {
    "id": "UDRs-eIxg7Tb"
   },
   "source": [
    "- b) Your answer here\n",
    "\n",
    "1] From a storage efficiency standpoint, it would be more efficient to use ASCII encoding for writing a long list of digits (0-9) to a file. \n",
    "\n",
    "2] ASCII encoding uses a single byte (8 bits) to represent each character, which includes the digits 0-9 along with other basic characters.\n",
    "\n",
    "3] UTF-8 is a variable-length encoding scheme that can use up to 4 bytes to represent characters depending on the character's code point. While UTF-8 is more versatile and can represent a wide range of characters from various languages, for a list of just digits (0-9), it would certainly result in unnecessary overhead in terms of file size compared to ASCII.\n",
    "\n",
    "To create an even smaller file to store the information of a long list of digits, I would consider using compression techniques like gzip etc. Gzip can significantly reduce the file size by compressing the data while ensuring that no information is lost during decompression. Sample code for reference:- (Note - This code may not run as expected but is intended for demonstration purpose).\n",
    "\n",
    "import gzip\n",
    "\n",
    "digits = \"0123456789\" * 100000  # Creating a long list of digits\n",
    "encoded_data = digits.encode('ascii')  # Encode the data using ASCII\n",
    "\n",
    "with gzip.open('compressed_digits.gz', 'wb') as f:\n",
    "    f.write(encoded_data)"
   ]
  },
  {
   "cell_type": "markdown",
   "metadata": {
    "id": "RMIrgGNjg7Tc"
   },
   "source": [
    "c) How would you sanity-check your data? Why is it important to sanity-check your data before you begin your analysis? What could happen if you don't?"
   ]
  },
  {
   "cell_type": "markdown",
   "metadata": {
    "collapsed": true,
    "id": "errKkCYQg7Td"
   },
   "source": [
    "- c) Your answer here\n",
    "\n",
    "How would you sanity-check your data?\n",
    "\n",
    "I would include below check points in order to sanity-check raw data:-\n",
    "\n",
    "1] Check for Missing Values: Ensure that there are no missing values in critical fields. Missing data can lead to unforseen results and incomplete analysis.\n",
    "\n",
    "2] Check Data Types: Make sure that data is of the expected type (e.g., numeric, string, date) in each column. Incorrect data types can lead to errors in calculations or comparisons.\n",
    "\n",
    "3] Check Data Range and Distribution: Examine the ranges and distributions of numeric data to identify outliers or anomalies. Extremely large or small values could indicate errors or data entry issues.\n",
    "\n",
    "4] Reconsile Data (count, sum, avg etc): Compare summarized data with external sources or other related datasets to identify inconsistencies.\n",
    "\n",
    "5] Check Duplicates: Search for duplicate rows. This could inflate or distort analysis results if not reviewed.\n",
    "\n",
    "6] Check Referential Integrity: For relational data, ensure that references between data (foreign keys) are valid and consistent.\n",
    "\n",
    "\n",
    "Why is it important to sanity-check your data before you begin your analysis? What could happen if you don't?\n",
    "\n",
    "1] Ensure Data Quality: By identifying and addressing errors or inconsistencies or missing values we can enhance the overall quality and reliability of the analysis.\n",
    "\n",
    "2] Accurate Decision-Making: High-quality data leads to more accurate and informed decision-making. Bad data can lead to incorrect conclusions and misguided actions subsequenltly.\n",
    "\n",
    "3] Prevent Propagation of Errors: Errors in data can compound (like a chain reaction) as we perform calculations and analyses, potentially leading to insignificant results.\n",
    "\n",
    "4] Save Time, Budget and Resources: Detecting and fixing issues early in the process can save valuable time, money and resources that might otherwise be wasted on analyzing flawed data.\n",
    "\n",
    "5] Gain Trust: Stakeholders and decision-makers are more likely to trust analysis and recommendations we make."
   ]
  },
  {
   "cell_type": "markdown",
   "metadata": {
    "id": "pY3aAxV-g7Te"
   },
   "source": [
    "d) How do you determine which variables in your dataset you should check for issues prior to starting an analysis? "
   ]
  },
  {
   "cell_type": "markdown",
   "metadata": {
    "collapsed": true,
    "id": "doSOqeqog7Te"
   },
   "source": [
    "- d) Your answer here\n",
    "\n",
    "1] Domain Knowledge: I would start by understanding the context of the data and the domain it represents. This will give us insights into which variables are critical to the analysis and might be more prone to errors or inconsistencies otherwise.\n",
    "\n",
    "2] Data Dictionary: Refer to any available data documentation or data dictionary. It provides information about the meaning, type, and expected values for each variable. This shall help focus on variables with complex definitions or those that are crucial to the analysis.\n",
    "\n",
    "3] Data Importance: Identify variables that are core to the analysis goals or hypotheses. Variables that drive key outcomes or decisions should be thoroughly considered.\n",
    "\n",
    "4] Frequency and Volume: Variables with high frequency or significant volume of data may have a higher likelihood of errors / issues. We should prioritize variables with large amounts of data.\n",
    "\n",
    "5] Relationships and Dependencies: Consider variables that are related to others, especially those used in calculations, aggregations, or comparisons. Inconsistencies in these variables could have cascading effects.\n",
    "\n",
    "6] Data Entry Points: Variables obtained through manual data entry or data integration processes may have higher chances of errors. These inputs need thorough review.\n",
    "\n",
    "7] Data Transformation : Variables that have undergone data transformations (e.g., normalization, scaling etc) should be checked to ensure the transformations were applied correctly.\n",
    "\n",
    "8] Missing Values & Sampling: Prioritize variables with a high proportion of missing values. Missing data can impact analysis results. If applicable, consider performing initial checks on a smaller sample of the dataset before conducting a comprehensive analysis."
   ]
  },
  {
   "cell_type": "markdown",
   "metadata": {
    "id": "GQjhe5avg7Tf"
   },
   "source": [
    "e1) Explain why the following code prints what it does."
   ]
  },
  {
   "cell_type": "code",
   "execution_count": 1,
   "metadata": {
    "id": "j2cQqWirg7Tg"
   },
   "outputs": [
    {
     "name": "stdout",
     "output_type": "stream",
     "text": [
      "<class 'function'>\n"
     ]
    }
   ],
   "source": [
    "def g(): pass\n",
    "print(type(g))"
   ]
  },
  {
   "cell_type": "markdown",
   "metadata": {
    "id": "YOrDq07ag7Th"
   },
   "source": [
    "- e1) Your answer here\n",
    "\n",
    "Here is the explanation of above code snippet:-\n",
    "\n",
    "Firstly 'def g():' pass: This line defines a function named g using the def keyword. The function body is represented by the pass statement, which actually does nothing. As a result, the function g doesn't have any explicit return value. Secondly, print(type(g)): This line prints the type of the function object g. The type() function returns the type of an object. In this case, the type of g is a function.\n",
    "\n",
    "Hence <class 'function'> output indicates that the type of the object g is a function. It's a built-in Python class / function. In Python first-class objects can be assigned to variables, passed as arguments to other functions, and returned from functions."
   ]
  },
  {
   "cell_type": "markdown",
   "metadata": {
    "id": "MAs1nQZ_g7Th"
   },
   "source": [
    "e2) Explain why the following code prints something different."
   ]
  },
  {
   "cell_type": "code",
   "execution_count": 2,
   "metadata": {
    "id": "1b49c_4Ag7Ti"
   },
   "outputs": [
    {
     "name": "stdout",
     "output_type": "stream",
     "text": [
      "<class 'NoneType'>\n"
     ]
    }
   ],
   "source": [
    "def g(): pass\n",
    "print(type(g()))"
   ]
  },
  {
   "cell_type": "markdown",
   "metadata": {
    "id": "9jBjkguyg7Tj"
   },
   "source": [
    "- e2) Your answer here\n",
    "\n",
    "Here is the explanation of above code snippet:-\n",
    "\n",
    "Firstly, def g(): pass: This line defines a function named g using the def keyword. The function body is represented by the pass statement, which doesn't have any meaningful return value. Secondly, print(type(g())): This line calls the function g using g() and then immediately attempts to determine the type of the result of that function call.\n",
    "\n",
    "Hence <class 'NoneType'> output indicates that the type of the result of calling the function g() is NoneType. In Python, when a function doesn't explicitly return a value, it implicitly returns None. In this case, since the function g doesn't have a return statement, it returned None."
   ]
  },
  {
   "cell_type": "markdown",
   "metadata": {
    "id": "jtHAe_5Pg7Tj"
   },
   "source": [
    "## 2:  General Coding Questions (15 pts - each question 5 pts)"
   ]
  },
  {
   "cell_type": "markdown",
   "metadata": {
    "id": "2EAQnoKwg7Tj"
   },
   "source": [
    "a) Using a dictionary comprehension, make a dictionary with the keys being the lowercase vowels (aeiou) and the values being the number of vowels in the example_text (case insensitive). Fill in a dictionary comprehension below so that we get this desired output.\n",
    "\n",
    "```\n",
    "example_text = 'Outlook is bright!'\n",
    "```\n",
    "\n",
    "expected output:\n",
    "```\n",
    "{'i': 2, 'o': 3, 'u': 1}\n",
    "\n",
    "or\n",
    "\n",
    "{'a': 0, 'e': 0, 'i': 2, 'o': 3, 'u': 1}\n",
    "```"
   ]
  },
  {
   "cell_type": "code",
   "execution_count": 46,
   "metadata": {
    "id": "yT_f_hhgg7Tk"
   },
   "outputs": [
    {
     "name": "stdout",
     "output_type": "stream",
     "text": [
      "Outlook is bright! {'a': 0, 'e': 0, 'i': 2, 'o': 3, 'u': 1}\n",
      "I love coding in python! {'a': 0, 'e': 1, 'i': 3, 'o': 3, 'u': 0}\n"
     ]
    }
   ],
   "source": [
    "example_text = \"I love coding in python!\"\n",
    "\n",
    "\n",
    "# 2a) Your code here\n",
    "\n",
    "example_text = 'Outlook is bright!'\n",
    "vowels = 'aeiou'\n",
    "\n",
    "vowel_counts = {vowel: example_text.lower().count(vowel) for vowel in vowels}\n",
    "print(example_text, vowel_counts)\n",
    "\n",
    "example_text = \"I love coding in python!\"\n",
    "vowel_counts = {vowel: example_text.lower().count(vowel) for vowel in vowels}\n",
    "print(example_text, vowel_counts)"
   ]
  },
  {
   "cell_type": "markdown",
   "metadata": {
    "id": "j5v3mwmVg7Tk"
   },
   "source": [
    "b) Below is a data frame of customers that have different cooling systems. Your data science team lead wants the column ```cooling_system``` to be labeled with the integer numbers 1-4 instead of the text as shown below:\n",
    "\n",
    "- 1 = Air Conditioning / Air Con / AC\n",
    "- 2 = Heat Pump / HP\n",
    "- 3 = Evaporative Cooler / EvapCooler / EC\n",
    "- 4 = Fan\n",
    "\n",
    "Make a new column called ```cooling_type``` that maps the text values to the new numeric values. Filter out / remove rows with the values that are not included in the mapping above. Print out/display this new data frame. Be sure to list any assumptions also!"
   ]
  },
  {
   "cell_type": "code",
   "execution_count": 47,
   "metadata": {
    "id": "61EFcCtbg7Tl"
   },
   "outputs": [
    {
     "data": {
      "text/html": [
       "<div>\n",
       "<style scoped>\n",
       "    .dataframe tbody tr th:only-of-type {\n",
       "        vertical-align: middle;\n",
       "    }\n",
       "\n",
       "    .dataframe tbody tr th {\n",
       "        vertical-align: top;\n",
       "    }\n",
       "\n",
       "    .dataframe thead th {\n",
       "        text-align: right;\n",
       "    }\n",
       "</style>\n",
       "<table border=\"1\" class=\"dataframe\">\n",
       "  <thead>\n",
       "    <tr style=\"text-align: right;\">\n",
       "      <th></th>\n",
       "      <th>Cust_Number</th>\n",
       "      <th>Cooling_System</th>\n",
       "    </tr>\n",
       "  </thead>\n",
       "  <tbody>\n",
       "    <tr>\n",
       "      <th>0</th>\n",
       "      <td>101</td>\n",
       "      <td>AC</td>\n",
       "    </tr>\n",
       "    <tr>\n",
       "      <th>1</th>\n",
       "      <td>102</td>\n",
       "      <td>Heat Pump</td>\n",
       "    </tr>\n",
       "    <tr>\n",
       "      <th>2</th>\n",
       "      <td>103</td>\n",
       "      <td>Air Con</td>\n",
       "    </tr>\n",
       "    <tr>\n",
       "      <th>3</th>\n",
       "      <td>104</td>\n",
       "      <td>Air Conditioning</td>\n",
       "    </tr>\n",
       "    <tr>\n",
       "      <th>4</th>\n",
       "      <td>105</td>\n",
       "      <td>Fan</td>\n",
       "    </tr>\n",
       "    <tr>\n",
       "      <th>5</th>\n",
       "      <td>106</td>\n",
       "      <td>None</td>\n",
       "    </tr>\n",
       "    <tr>\n",
       "      <th>6</th>\n",
       "      <td>107</td>\n",
       "      <td>EvapCooler</td>\n",
       "    </tr>\n",
       "    <tr>\n",
       "      <th>7</th>\n",
       "      <td>108</td>\n",
       "      <td>None</td>\n",
       "    </tr>\n",
       "    <tr>\n",
       "      <th>8</th>\n",
       "      <td>109</td>\n",
       "      <td>EC</td>\n",
       "    </tr>\n",
       "    <tr>\n",
       "      <th>9</th>\n",
       "      <td>110</td>\n",
       "      <td>Evaporative Cooler</td>\n",
       "    </tr>\n",
       "    <tr>\n",
       "      <th>10</th>\n",
       "      <td>111</td>\n",
       "      <td>geothermal</td>\n",
       "    </tr>\n",
       "    <tr>\n",
       "      <th>11</th>\n",
       "      <td>112</td>\n",
       "      <td>8</td>\n",
       "    </tr>\n",
       "    <tr>\n",
       "      <th>12</th>\n",
       "      <td>113</td>\n",
       "      <td>Air Con</td>\n",
       "    </tr>\n",
       "  </tbody>\n",
       "</table>\n",
       "</div>"
      ],
      "text/plain": [
       "    Cust_Number      Cooling_System\n",
       "0           101                  AC\n",
       "1           102           Heat Pump\n",
       "2           103             Air Con\n",
       "3           104    Air Conditioning\n",
       "4           105                 Fan\n",
       "5           106                None\n",
       "6           107          EvapCooler\n",
       "7           108                None\n",
       "8           109                  EC\n",
       "9           110  Evaporative Cooler\n",
       "10          111          geothermal\n",
       "11          112                   8\n",
       "12          113             Air Con"
      ]
     },
     "execution_count": 47,
     "metadata": {},
     "output_type": "execute_result"
    }
   ],
   "source": [
    "import pandas\n",
    "\n",
    "# creating a data frame from scratch - list of lists\n",
    "\n",
    "data = [ \n",
    "         [101, 'AC'], \n",
    "         [102, 'Heat Pump'], \n",
    "         [103, 'Air Con'], \n",
    "         [104, 'Air Conditioning'],\n",
    "         [105, 'Fan'],\n",
    "         [106, 'None'],\n",
    "         [107, 'EvapCooler'],\n",
    "         [108, None],\n",
    "         [109, 'EC'],\n",
    "         [110, 'Evaporative Cooler'],\n",
    "         [111, 'geothermal'],\n",
    "         [112, 8],\n",
    "         [113, 'Air Con']\n",
    "       ]\n",
    "\n",
    "# create a data frame with column names - list of lists\n",
    "\n",
    "col_names = ['Cust_Number', 'Cooling_System']\n",
    "df = pandas.DataFrame(data, columns=col_names)\n",
    "df"
   ]
  },
  {
   "cell_type": "code",
   "execution_count": 50,
   "metadata": {
    "id": "E3IH8MHwg7Tl"
   },
   "outputs": [
    {
     "name": "stdout",
     "output_type": "stream",
     "text": [
      "    Cust_Number      Cooling_System  cooling_type\n",
      "0           101                  AC             1\n",
      "1           102           Heat Pump             2\n",
      "2           103             Air Con             1\n",
      "3           104    Air Conditioning             1\n",
      "4           105                 Fan             4\n",
      "6           107          EvapCooler             3\n",
      "8           109                  EC             3\n",
      "9           110  Evaporative Cooler             3\n",
      "12          113             Air Con             1\n"
     ]
    }
   ],
   "source": [
    "# 2b) Your code here\n",
    "# Mapping dictionary\n",
    "cooling_mapping = {\n",
    "    'AC': 1,\n",
    "    'Air Con': 1,\n",
    "    'Air Conditioning': 1,\n",
    "    'Heat Pump': 2,\n",
    "    'HP': 2,\n",
    "    'EvapCooler': 3,\n",
    "    'Evaporative Cooler': 3,\n",
    "    'EC': 3,\n",
    "    'Fan': 4\n",
    "}\n",
    "\n",
    "# Add a new column 'cooling_type' using the mapping\n",
    "df['cooling_type'] = df['Cooling_System'].map(cooling_mapping)\n",
    "\n",
    "# Filter out rows with values not included in the mapping\n",
    "df_filtered = df.dropna(subset=['cooling_type'])\n",
    "\n",
    "# Convert single column to int dtype.\n",
    "df_filtered = df_filtered.astype({'cooling_type':'int'})\n",
    "\n",
    "# Display the filtered DataFrame\n",
    "print(df_filtered)"
   ]
  },
  {
   "cell_type": "markdown",
   "metadata": {
    "id": "LzguKp3Rg7Tm"
   },
   "source": [
    "c) From the dataframe below, use groupby in Pandas to show how many total delegates were obtained grouped by state. Print this out."
   ]
  },
  {
   "cell_type": "code",
   "execution_count": 8,
   "metadata": {
    "id": "SBKSw6hsg7Tm"
   },
   "outputs": [
    {
     "data": {
      "text/html": [
       "<div>\n",
       "<style scoped>\n",
       "    .dataframe tbody tr th:only-of-type {\n",
       "        vertical-align: middle;\n",
       "    }\n",
       "\n",
       "    .dataframe tbody tr th {\n",
       "        vertical-align: top;\n",
       "    }\n",
       "\n",
       "    .dataframe thead th {\n",
       "        text-align: right;\n",
       "    }\n",
       "</style>\n",
       "<table border=\"1\" class=\"dataframe\">\n",
       "  <thead>\n",
       "    <tr style=\"text-align: right;\">\n",
       "      <th></th>\n",
       "      <th>name</th>\n",
       "      <th>delegates</th>\n",
       "      <th>color</th>\n",
       "      <th>state</th>\n",
       "    </tr>\n",
       "  </thead>\n",
       "  <tbody>\n",
       "    <tr>\n",
       "      <th>0</th>\n",
       "      <td>marco</td>\n",
       "      <td>165</td>\n",
       "      <td>blue</td>\n",
       "      <td>FL</td>\n",
       "    </tr>\n",
       "    <tr>\n",
       "      <th>1</th>\n",
       "      <td>jeb</td>\n",
       "      <td>35</td>\n",
       "      <td>red</td>\n",
       "      <td>FL</td>\n",
       "    </tr>\n",
       "    <tr>\n",
       "      <th>2</th>\n",
       "      <td>chris</td>\n",
       "      <td>0</td>\n",
       "      <td>white</td>\n",
       "      <td>NY</td>\n",
       "    </tr>\n",
       "    <tr>\n",
       "      <th>3</th>\n",
       "      <td>donald</td>\n",
       "      <td>1543</td>\n",
       "      <td>white</td>\n",
       "      <td>NY</td>\n",
       "    </tr>\n",
       "    <tr>\n",
       "      <th>4</th>\n",
       "      <td>ted</td>\n",
       "      <td>559</td>\n",
       "      <td>blue</td>\n",
       "      <td>NY</td>\n",
       "    </tr>\n",
       "    <tr>\n",
       "      <th>5</th>\n",
       "      <td>john</td>\n",
       "      <td>161</td>\n",
       "      <td>red</td>\n",
       "      <td>OH</td>\n",
       "    </tr>\n",
       "  </tbody>\n",
       "</table>\n",
       "</div>"
      ],
      "text/plain": [
       "     name  delegates  color state\n",
       "0   marco        165   blue    FL\n",
       "1     jeb         35    red    FL\n",
       "2   chris          0  white    NY\n",
       "3  donald       1543  white    NY\n",
       "4     ted        559   blue    NY\n",
       "5    john        161    red    OH"
      ]
     },
     "execution_count": 8,
     "metadata": {},
     "output_type": "execute_result"
    }
   ],
   "source": [
    "import pandas\n",
    "\n",
    "# creating a data frame from scratch - list of lists\n",
    "\n",
    "data = [ ['marco', 165, 'blue', 'FL'], \n",
    "         ['jeb', 35, 'red', 'FL'], \n",
    "         ['chris', 0, 'white', 'NY'], \n",
    "         ['donald', 1543, 'white', 'NY'],\n",
    "         ['ted', 559, 'blue', 'NY'],\n",
    "         ['john', 161, 'red', 'OH']\n",
    "       ]\n",
    "\n",
    "# create a data frame with column names - list of lists\n",
    "\n",
    "col_names = ['name', 'delegates', 'color', 'state']\n",
    "df = pandas.DataFrame(data, columns=col_names)\n",
    "df"
   ]
  },
  {
   "cell_type": "code",
   "execution_count": 11,
   "metadata": {
    "id": "KNNZmJGUg7To"
   },
   "outputs": [
    {
     "name": "stdout",
     "output_type": "stream",
     "text": [
      "  state  delegate(s) count\n",
      "0    FL                200\n",
      "1    NY               2102\n",
      "2    OH                161\n"
     ]
    }
   ],
   "source": [
    "# 2c) Your code here\n",
    "\n",
    "# Group by 'state' and calculate the sum of delegates\n",
    "grouped = df.groupby('state')['delegates'].sum().reset_index()\n",
    "\n",
    "# Rename columns to include 'count'\n",
    "grouped.columns = ['state', 'delegate(s) count']\n",
    "\n",
    "# Print the result\n",
    "print(grouped)"
   ]
  },
  {
   "cell_type": "markdown",
   "metadata": {
    "id": "j0vXNb_Yg7Tp"
   },
   "source": [
    "## 3: Bitcoin coding problem (20 points):"
   ]
  },
  {
   "cell_type": "markdown",
   "metadata": {
    "id": "PWU5dtSEg7Tp"
   },
   "source": [
    "#### Bitcoin\n",
    "\n",
    "Consider a record of a one-time investment in bitcoin with value of that investment tracked monthly, provided as an (ordered) tuple of dictionaries, where each dictionary comprises one key for the month and corresponding one value for the value of the investment as of that date. (For example 31 Jan 2018 was $1200 as shown in `data` below).\n",
    "\n",
    "The initial investment is made on 1 Jan 2018 and was for $1000 (labelled 'Initial' in the `data` below).\n",
    "\n",
    "Fill in the Python function (named `bitcoin_invest` below) to take such a record of any length (the below `data` is only a sample but the full data will be in the same format), and return a dataframe comprising a row for each month with columns for date, balance, and return. **Print out/display this dataframe.**\n",
    "\n",
    "Also, visualize the record as two vertically arranged plots (there are a few ways to do this, keep it consistent over both plots). \n",
    "- The top plot should show a line plot of balance vs. month \n",
    "- The bottom plot should show a bar plot of return vs. month, with a black horizontal line at return=0, and bars color-coded such that positive returns are green and negative returns are red.  \n",
    "- The two plots' horizontal axes should align. Demonstrate that your code works by applying it to `data`.\n",
    "\n",
    "Some definitions: <br>\n",
    "- The gain for each period is the end balance minus the start balance. \n",
    "- The growth factor for each period is the end balance divided by the start balance.  \n",
    "- The return for each period is the growth factor minus 1."
   ]
  },
  {
   "cell_type": "code",
   "execution_count": 17,
   "metadata": {
    "id": "nNyReUHXg7Tp"
   },
   "outputs": [
    {
     "data": {
      "text/plain": [
       "({'Initial': 1000},\n",
       " {'Jan 2018': 1200},\n",
       " {'Feb 2018': 1400},\n",
       " {'Mar 2018': 700},\n",
       " {'Apr 2018': 800},\n",
       " {'May 2018': 500})"
      ]
     },
     "execution_count": 17,
     "metadata": {},
     "output_type": "execute_result"
    }
   ],
   "source": [
    "data = ({\"Initial\": 1000}, {\"Jan 2018\":1200},{\"Feb 2018\":1400},{\"Mar 2018\":700},{\"Apr 2018\":800},{\"May 2018\":500})\n",
    "data"
   ]
  },
  {
   "cell_type": "code",
   "execution_count": 31,
   "metadata": {
    "id": "tqPVdbgkg7Tp"
   },
   "outputs": [
    {
     "data": {
      "image/png": "[encoded data removed]",
      "text/plain": [
       "<Figure size 1000x800 with 2 Axes>"
      ]
     },
     "metadata": {},
     "output_type": "display_data"
    },
    {
     "name": "stdout",
     "output_type": "stream",
     "text": [
      "            balance    return\n",
      "NaT            1000       NaN\n",
      "2018-01-01     1200  0.200000\n",
      "2018-02-01     1400  0.166667\n",
      "2018-03-01      700 -0.500000\n",
      "2018-04-01      800  0.142857\n",
      "2018-05-01      500 -0.375000\n"
     ]
    }
   ],
   "source": [
    "# 3) Your code here\n",
    "\n",
    "import pandas as pd\n",
    "import matplotlib.pyplot as plt\n",
    "import numpy as np\n",
    "\n",
    "def bitcoin_invest(monthly_data):\n",
    "   # Convert the list of dictionaries into a single dictionary\n",
    "    data_dict = {key: value for entry in monthly_data for key, value in entry.items()}\n",
    "\n",
    "    # Create a DataFrame from the dictionary\n",
    "    df = pd.DataFrame.from_dict(data_dict, orient='index', columns=['balance'])\n",
    "\n",
    "    # Convert index to datetime format, excluding 'Initial'\n",
    "    df.index = pd.to_datetime(df.index, errors='coerce')\n",
    "\n",
    "    # Drop rows with missing datetime index (e.g., 'Initial')\n",
    "    df = df.dropna()\n",
    "\n",
    "    # Calculate returns and add a 'return' column\n",
    "    df['return'] = df['balance'].pct_change()\n",
    "\n",
    "    # Create figure and axes for the plots. Sharex = True will help allign and share X Axis.\n",
    "    fig, axes = plt.subplots(2, 1, figsize=(10, 8), sharex=True)\n",
    "\n",
    "    # Top plot: Line plot of balance vs. month\n",
    "    axes[0].plot(df.index, df['balance'], marker='o')\n",
    "    axes[0].set_ylabel('Balance ($)', rotation = 0, labelpad= 36)\n",
    "    axes[0].set_title('Bitcoin Investment Performance graph')\n",
    "    axes[0].grid(True)\n",
    "\n",
    "    # Bottom plot: Bar plot of return vs. month\n",
    "    bar_colors = ['red' if r < 0 else 'green' for r in df['return']]\n",
    "    axes[1].bar(df.index, df['return'], color=bar_colors, )\n",
    "    axes[1].axhline(y=0, color='black', linewidth=1)\n",
    "    axes[1].set_xlabel('\\n Month')\n",
    "    axes[1].set_ylabel('Return', rotation = 0, labelpad = 20)\n",
    "    axes[1].grid(True)\n",
    "    axes[1].xaxis.set_tick_params(rotation=45)\n",
    "    \n",
    "    # Format x-axis labels to show only month and year. This is not in requirement to make date as month yaer but \n",
    "    # since X axis label says month it makes more sense to me to display it as month-year. To view date, mon, year\n",
    "    # below line of code can be commented.\n",
    "    axes[1].xaxis.set_major_formatter(plt.matplotlib.dates.DateFormatter('%b %Y'))\n",
    "\n",
    "    # Adjust layout for better spacing\n",
    "    plt.tight_layout()\n",
    "\n",
    "    # Display the plots\n",
    "    plt.show()\n",
    "\n",
    "    return df\n",
    "\n",
    "# Call the function with sample data\n",
    "result_df = bitcoin_invest(data)\n",
    "print(result_df)\n",
    "\n",
    "# Assumption - Here we are not given initial date of investment, hene it cannot be displayed on the graphs.\n",
    "# Initial value shall be discarded at some point as it is not in date time format."
   ]
  },
  {
   "cell_type": "markdown",
   "metadata": {
    "id": "qGnnkRF9g7Tq"
   },
   "source": [
    "## 4: Clinical disease data (40 pts)\n",
    "\n",
    "Your boss comes to you Monday morning and says “I figured out our next step; we are going to pivot from an online craft store and become a data center for genetic disease information! I found **ClinVar** which is a repository that contains expert curated data, and it is free for the taking. This is a gold mine! Look at the file and tell me what gene and mutation combinations are classified as dangerous.”\n",
    "\n",
    "Make sure that you only give your boss the dangerous mutations and include:\n",
    "\n",
    "1) Gene name\n",
    "\n",
    "2) Mutation ID number\n",
    "\n",
    "3) Mutation Position (chromosome & position)\n",
    "\n",
    "4) Mutation value (reference & alternate bases)\n",
    "\n",
    "5) Clinical significance (CLNSIG)\n",
    "\n",
    "6) Disease that is implicated\n",
    "\n",
    "**Requirements**\n",
    "\n",
    "1) The deliverables are the final result as a dataframe with a short discussion of any specifics. (that is, what data you would present to your boss with the explanation of your results)\n",
    "\n",
    "2) Limit your output to the first 100 harmful mutations and tell your boss how many total harmful mutations were found in the file\n",
    "\n",
    "3) Use the instructor-modified \"clinvar_final.txt\" at this link: https://drive.google.com/file/d/1Zps0YssoJbZHrn6iLte2RDLlgruhAX1s/view?usp=sharing This file was modified to be not exactly the same as 'standard' .vcf file to test your data parsing skills. **This is a large file so do NOT upload it into your github repo!**\n",
    "\n",
    "4) Replace missing values in the dataframe with: 'Not_Given'. Print or display this (including the Not_Given count) for the column `CLNSIG` by using pandas value_counts() function (https://pandas.pydata.org/docs/reference/api/pandas.Series.value_counts.html).\n",
    "\n",
    "5) State in your answer how you define harmful mutations\n",
    "\n",
    "**6) Do your best on getting to above requirements and submit whatever you do before the deadline. If your work is incomplete be sure to describe the blockers that got in your way and how you might get past them (if given more time).**\n",
    "\n",
    "7) You can use as many code blocks as you need. Please clean-up your code and make it readable for the graders!\n",
    "\n",
    "**Hints** \n",
    "* We do not expect you to have any medical knowledge to solve this problem; look at the data, read the documentation provided, and write down your assumptions!\n",
    "\n",
    "* Correct pseudocode will give you partial credit so start with that. \n",
    "\n",
    "* Map out which fields you want to extract: Are they in the same place every time? What strategy will you use to robustly extract and filter your data of interest? How do you plan to handle missing data?\n",
    "\n",
    "* A good way to start is to print out each line, then practice parsing them to see if you can recover the fields of interest\n",
    "\n",
    "* A starting solution for parsing .vcfs can be found here: https://gist.github.com/dceoy/99d976a2c01e7f0ba1c813778f9db744 This solution does **NOT** work due to the changes we've made but can be modified to work. As with any solution that needs modifications, it may take less time to make your own solution!\n",
    "\n",
    "* Filter out junk and lines with no mutation data. Just focus on the data your need to deliver to your boss. \n",
    "\n",
    "* Pandas and NumPy parsers correctly recognize the end of each line in in the ClinVar file.\n",
    "\n",
    "* The unit of observation of this dataset is one row per mutation.\n",
    "\n",
    "* This is similar to a task that one of us tackled at work. You can answer the question with the information provided below or using the (partial) data dictionary file at this link: https://drive.google.com/file/d/1lx9yHdlcqmU_OlHiTUXKC_LQDqYBypH_/view?usp=sharing. Our goal is to see that you can put together a sensible plan, implement a solid parsing strategy, and document and justify the decisions that you made."
   ]
  },
  {
   "cell_type": "markdown",
   "metadata": {
    "collapsed": true,
    "id": "vxoh6uLEg7Tr"
   },
   "source": [
    "### VCF file description (Summarized from version 4.1)\n",
    "\n",
    "```\n",
    "* The VCF specification:\n",
    "\n",
    "VCF is a text file format which contains meta-information lines, a header line, and then data lines each containing information about a position in the genome. The format also can contain genotype information on samples for each position.\n",
    "\n",
    "* Fixed fields:\n",
    "\n",
    "There are 8 fixed fields per record. All data lines are **tab-delimited**. In all cases, missing values are specified with a dot (‘.’). \n",
    "\n",
    "1. CHROM - chromosome number\n",
    "2. POS - position DNA nuceleotide count (bases) along the chromosome\n",
    "3. ID - The unique identifier for each mutation\n",
    "4. REF - reference base(s)\n",
    "5. ALT - alternate base(s)\n",
    "6. FILTER - filter status\n",
    "7. QUAL - quality\n",
    "8. INFO - a semicolon-separated series of keys with values in the format: <key>=<data>\n",
    "\n",
    "```\n",
    "### Applicable INFO field specifications\n",
    "\n",
    "```\n",
    "GENEINFO = <Gene name>\n",
    "CLNSIG =  <Clinical significance>\n",
    "CLNDN = <Disease name>\n",
    "```\n",
    "\n",
    "### Sample ClinVar data (vcf file format - not exactly the same as the file to download!)\n",
    "\n",
    "```\n",
    "##fileformat=VCFv4.1\n",
    "##fileDate=2019-03-19\n",
    "##source=ClinVar\n",
    "##reference=GRCh38\t\t\t\t\t\t\t\n",
    "#CHROM\tPOS\tID\tREF\tALT\tQUAL\tFILTER\tINFO\n",
    "1\t949523\trs786201005\tC\tT\t.\t.\tGENEINFO=ISG15;CLNSIG=5\n",
    "1\t949696\trs672601345\tC\tCG\t.\t.\tGENEINFO=ISG15;CLNSIG=5;CLNDN=Cancer\n",
    "1\t949739\trs672601312\tG\tT\t.\t.\tGENEINFO=ISG15;CLNDBN=Cancer\n",
    "1\t955597\trs115173026\tG\tT\t.\t.\tGENEINFO=AGRN;CLNSIG=2; CLNDN=Cancer\n",
    "1\t955619\trs201073369\tG\tC\t.\t.\tGENEINFO=AGG;CLNDN=Heart_dis \n",
    "1\t957640\trs6657048\tC\tT\t.\t.\tGENEINFO=AGG;CLNSIG=3;CLNDN=Heart_dis \n",
    "1\t976059\trs544749044\tC\tT\t.\t.\tGENEINFO=AGG;CLNSIG=0;CLNDN=Heart_dis \n",
    "```"
   ]
  },
  {
   "cell_type": "code",
   "execution_count": 51,
   "metadata": {
    "id": "qPhDns3zg7Tr"
   },
   "outputs": [
    {
     "name": "stdout",
     "output_type": "stream",
     "text": [
      "First 100 Harmful Mutations:\n",
      "            Gene  Mutation_ID Mutation_Position   Mutation_Value  \\\n",
      "2     ISG15:9636       183381      chr1:1014143    REF:C / ALT:T   \n",
      "8     ISG15:9636       161455      chr1:1014316   REF:C / ALT:CG   \n",
      "9     ISG15:9636       161454      chr1:1014359    REF:G / ALT:T   \n",
      "24   AGRN:375790       243036      chr1:1022225    REF:G / ALT:A   \n",
      "26   AGRN:375790       243037      chr1:1022313    REF:A / ALT:T   \n",
      "..           ...          ...               ...              ...   \n",
      "852   PEX10:5192       197886      chr1:2406528   REF:G / ALT:GC   \n",
      "857   PEX10:5192       282334      chr1:2406561    REF:C / ALT:A   \n",
      "862   PEX10:5192       555297      chr1:2406580   REF:CA / ALT:C   \n",
      "863   PEX10:5192       296273      chr1:2406580  REF:CAG / ALT:C   \n",
      "866   PEX10:5192       553074      chr1:2406599  REF:GCT / ALT:G   \n",
      "\n",
      "                CLNSIG                                            Disease  \n",
      "2           Pathogenic  Immunodeficiency_38_with_basal_ganglia_calcifi...  \n",
      "8           Pathogenic  Immunodeficiency_38_with_basal_ganglia_calcifi...  \n",
      "9           Pathogenic  Immunodeficiency_38_with_basal_ganglia_calcifi...  \n",
      "24          Pathogenic                     Congenital_myasthenic_syndrome  \n",
      "26          Pathogenic                     Congenital_myasthenic_syndrome  \n",
      "..                 ...                                                ...  \n",
      "852         Pathogenic                                          Not_Given  \n",
      "857         Pathogenic                                          Not_Given  \n",
      "862  Likely_pathogenic  Peroxisome_biogenesis_disorder_6A|Peroxisome_b...  \n",
      "863         Pathogenic  Zellweger_syndrome|Peroxisome_biogenesis_disor...  \n",
      "866  Likely_pathogenic  Peroxisome_biogenesis_disorder_6A|Peroxisome_b...  \n",
      "\n",
      "[100 rows x 6 columns]\n",
      "Total Harmful Mutations: 19474\n",
      "\n",
      "CLNSIG Value Counts:\n",
      "Pathogenic                                   12313\n",
      "Likely_pathogenic                             6269\n",
      "Pathogenic/Likely_pathogenic                   854\n",
      "Pathogenic,_risk_factor                         11\n",
      "Pathogenic/Likely_pathogenic,_other              8\n",
      "Pathogenic/Likely_pathogenic,_risk_factor        6\n",
      "Likely_pathogenic,_risk_factor                   5\n",
      "Pathogenic,_other                                2\n",
      "Pathogenic,_Affects                              2\n",
      "Pathogenic,_association,_protective              1\n",
      "Likely_pathogenic,_association                   1\n",
      "Pathogenic,_protective                           1\n",
      "Likely_pathogenic,_other                         1\n",
      "Name: CLNSIG, dtype: int64\n",
      "\n",
      "Count of 'Not_Given' in CLNSIG Column: 0\n"
     ]
    }
   ],
   "source": [
    "# 4) Your code here - can use as many code blocks as you would like\n",
    "\n",
    "import pandas as pd\n",
    "import numpy as np\n",
    "\n",
    "# Load the ClinVar data from the file. File is present in same folder as this file.\n",
    "data = pd.read_csv(\"clinvar_final.txt\", sep='\\t', comment='#', header=0)\n",
    "\n",
    "# Define a function to extract gene and mutation information\n",
    "def extract_info(row):\n",
    "    gene_info = row['INFO'].split(';')\n",
    "    gene = next((info.split('=')[1] for info in gene_info if info.startswith('GENEINFO')), 'Not_Given')\n",
    "    mutation_id = row['ID']\n",
    "    mutation_position = f\"chr{row['CHROM']}:{row['POS']}\"\n",
    "    mutation_value = f\"REF:{row['REF']} / ALT:{row['ALT']}\"\n",
    "    clnsig = next((info.split('=')[1] for info in gene_info if info.startswith('CLNSIG')), 'Not_Given')\n",
    "    disease = next((info.split('=')[1] for info in gene_info if info.startswith('CLNDN')), 'Not_Given')\n",
    "    return pd.Series([gene, mutation_id, mutation_position, mutation_value, clnsig, disease])\n",
    "\n",
    "# Apply the extraction function to the data\n",
    "harmful_mutations = data[data['INFO'].str.contains('CLNSIG=Pathogenic') | data['INFO'].str.contains('CLNSIG=Likely_pathogenic')]\n",
    "result_df = harmful_mutations.apply(extract_info, axis=1)\n",
    "result_df.columns = ['Gene', 'Mutation_ID', 'Mutation_Position', 'Mutation_Value', 'CLNSIG', 'Disease']\n",
    "\n",
    "# Replace missing values with 'Not_Given'\n",
    "result_df = result_df.replace('.', 'Not_Given')\n",
    "\n",
    "\n",
    "# Display the first 100 harmful mutations\n",
    "print(\"First 100 Harmful Mutations:\")\n",
    "print(result_df.head(100))\n",
    "\n",
    "# Display the total number of harmful mutations\n",
    "total_harmful_mutations = len(result_df)\n",
    "print(f\"Total Harmful Mutations: {total_harmful_mutations}\")\n",
    "\n",
    "# Print value counts for the 'CLNSIG' column\n",
    "clnsig_counts = result_df['CLNSIG'].value_counts()\n",
    "print(\"\\nCLNSIG Value Counts:\")\n",
    "print(clnsig_counts)\n",
    "\n",
    "# Display the count of 'Not_Given' in the 'CLNSIG' column\n",
    "not_given_count = clnsig_counts.get('Not_Given', 0)\n",
    "print(\"\\nCount of 'Not_Given' in CLNSIG Column:\", not_given_count)"
   ]
  },
  {
   "cell_type": "markdown",
   "metadata": {
    "id": "QvWAQKYag7Tr"
   },
   "source": [
    "State in your answer how you define harmful mutations? \n",
    "\n",
    "Harmful mutations, in the context of genetic disease information, are mutations that have been clinically identified and annotated as having a potential negative impact on an individual's health. These mutations are associated with the development or increased risk of genetic diseases or conditions. In the provided ClinVar dataset, harmful mutations are typically categorized as \"Pathogenic\" or \"Likely_pathogenic\" in the \"CLNSIG\" field, indicating their clinical significance in causing or contributing to disease."
   ]
  },
  {
   "cell_type": "code",
   "execution_count": null,
   "metadata": {},
   "outputs": [],
   "source": [
    "\n",
    "4) Please Write your assumptions here:\n",
    "\n",
    "1] Harmful mutations are defined as those with clinical significance \"Pathogenic\" or \"Likely_pathogenic\".\n",
    "2] The script filters out lines that are not marked as \"Pathogenic\" or \"Likely_pathogenic\".\n",
    "3] The assumption is made that the \"CLNSIG\" field specifies clinical significance.\n",
    "4] For columns 'Gene', 'Mutation_ID', 'Mutation_Position', 'Mutation_Value', 'CLNSIG', and 'Disease', missing values are replaced with 'Not_Given'."
   ]
  },
  {
   "cell_type": "markdown",
   "metadata": {
    "id": "_r9uXf94g7Ts"
   },
   "source": [
    "4) Findings / What would you present to your boss?\n",
    "\n",
    "Summary of our findings:\n",
    "\n",
    "1] We shall include the first 100 harmful mutations, with columns for gene name, mutation ID number, mutation position, mutation value, clinical significance, and disease implicated in the report. This shall help our boss to take next strategic desicion.\n",
    "\n",
    "2] The total number of harmful mutations gives a ratio / percentage to our boss to be mindful of probable harmful mutations in future or if any of the customer asks ball park figures.\n",
    "\n",
    "3] Distribution of clinical significance using the value counts for the 'CLNSIG' column to give an overview of the types of harmful mutations. This shall be one level deeper than counts derived in previous step.\n",
    "\n",
    "4] The 'Not_Given' count in the 'CLNSIG' column would also be presented to indicate the number of missing values. This would certainly drive a separate branch of work towards data analysis and clensing. However in our case the count is zero to begin with.\n",
    "\n",
    "We can present a detailed report to further drill down the results and derive advanced conclusions."
   ]
  }
 ],
 "metadata": {
  "colab": {
   "provenance": []
  },
  "kernelspec": {
   "display_name": "Python 3 (ipykernel)",
   "language": "python",
   "name": "python3"
  },
  "language_info": {
   "codemirror_mode": {
    "name": "ipython",
    "version": 3
   },
   "file_extension": ".py",
   "mimetype": "text/x-python",
   "name": "python",
   "nbconvert_exporter": "python",
   "pygments_lexer": "ipython3",
   "version": "3.10.9"
  }
 },
 "nbformat": 4,
 "nbformat_minor": 1
}
