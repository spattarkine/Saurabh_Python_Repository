{
 "cells": [
  {
   "cell_type": "markdown",
   "id": "2b1cf856",
   "metadata": {},
   "source": [
    "## Week 9 Assignment - DATASCI200 Introduction to Data Science Programming, UC Berkeley MIDS"
   ]
  },
  {
   "cell_type": "markdown",
   "id": "1bbbf149",
   "metadata": {},
   "source": [
    "Write code in this Jupyter Notebook to solve the following problems. Please upload this **Notebook** with your solutions to your GitHub repository and gradescope.\n",
    "\n",
    "Assignment due date: 11:59PM PT the night before the Week 11 Live Session."
   ]
  },
  {
   "cell_type": "markdown",
   "id": "dde812e7",
   "metadata": {},
   "source": [
    "## Objectives\n",
    "\n",
    "- Understand different ways to manipulate and perform calculations on Numpy arrays\n",
    "- Using numpy to find the max values in each column and row, calculating the mean of a matrix\n",
    "- Demonstarting matrix value comparisons and slicing of values\n",
    "- Calculations using numpy matrixes"
   ]
  },
  {
   "cell_type": "markdown",
   "id": "978cd08d",
   "metadata": {},
   "source": [
    "## General Guidelines:\n",
    "\n",
    "- All calculations need to be done in the functions (that includes any formatting of the output)\n",
    "- Name your functions exactly as written in the problem statement\n",
    "- Please have your functions return the answer rather than printing it inside the function\n",
    "- Do not make a separate input() statement.  The functions will be passed the input as shown in the examples\n",
    "- The examples given are samples of how we will test/grade your code. Please ensure your functions output the same information\n",
    "- Answer format is graded - please match the examples\n",
    "- Docstrings and comments in your code are strongly suggested but won't be graded\n",
    "- In each code block, do NOT delete the ### comment at the top of a cell (it's needed for the auto-grading!)\n",
    "  - Do NOT print or put other statements in the grading cells. The autograder will fail - if this happens please delete those statments and re-submit \n",
    "  - You will get 70 points from the autograder for this assignment and 30 points will be hidden. That is, passing all of the visible tests will give you 70 points. Make sure you are meeting the requirements of the problem to get the other 30 points \n",
    "  - The 30 'hidden' points are the same questions run on a different matrix - make sure your code is generalizable to work on different matrixes!\n",
    "  - Full autograder tests and results are on gradescope.\n",
    "  - You may upload and run the autograder as many times as needed in your time window to get full points\n",
    "  - The assignment needs to be named HW_Unit_09.ipynb to be graded from the autograder!\n",
    "  - The examples given are samples of how we will test/grade your code. Please ensure your code outputs the same information.\n",
    "    - In addition to the given example, the autograder will test other examples\n",
    "    - Each autograder test tells you what input it is using\n",
    "  - Once complete, the autograder will show each tests, if that test is passed or failed, and your total score\n",
    "  - The autograder fails for a couple of reasons:\n",
    "    - Your code crashes with that input (for example: `Test Failed: string index out of range`)\n",
    "    - Your code output does not match the 'correct' output (for example: `Test Failed: '1 2 3 2 1' != '1 4 6 4 1'`"
   ]
  },
  {
   "cell_type": "markdown",
   "id": "96b6f851",
   "metadata": {},
   "source": [
    "### Instructions\n",
    "\n",
    "In this assignment, we will work with NumPy. For each question below, use NumPy functionality to execute the logic of your answer. <br>(**Do not use ```for``` or ```while``` loops!**)\n",
    "\n",
    "The first cell (below) makes two matrixes we will use for this assignment. \n",
    "- The first matrix named `features` is a 1000 row x 10 column matrix that contains a sample of our data. \n",
    "  - Each row is a one sample of the data and each column is the weight of that feature for that sample\n",
    "  - The matrix has been 'normalized' to have positive integer values on a scale of 0-100\n",
    "- The second matrix named `weights` is a 1 row by 10 column matrix consisting of the weights from the algorithm \n",
    "  - Each column corresponds to the 'weight' of that feature in the calculation of a prediction result\n",
    "  - The weights are in the range -1 to +1 and indicate the 'correlation' between that feature and the prediciton result with a negative weight being a negative correlation"
   ]
  },
  {
   "cell_type": "code",
   "execution_count": 4,
   "id": "4f6b1baf",
   "metadata": {},
   "outputs": [],
   "source": [
    "import numpy as np\n",
    "np.random.seed(25)\n",
    "\n",
    "# Creating the matrixes to use for the problem\n",
    "features = np.random.randint(0, 100, 10000).reshape(1000,10)\n",
    "weights = np.array([ 0.24540611,  0.31467517, -0.07656614, -0.16161533, -0.09064962,\n",
    "                    -0.00315615,  0.09609595,  0.2517064 ,  0.01100181, -0.38629211])"
   ]
  },
  {
   "cell_type": "markdown",
   "id": "c70e0644",
   "metadata": {},
   "source": [
    "***\n",
    "\n",
    "##### Data Quality checks\n",
    "\n",
    "The first few questions below are some checks to access the data quality of the arrays. Since the arrays were made above, we already know their composition but its good practise to check the data that they contain. "
   ]
  },
  {
   "cell_type": "markdown",
   "id": "3b3982df",
   "metadata": {},
   "source": [
    "**1)** \n",
    "\n",
    "In the function `get_shape` below, return the shape of a given matrix. (5 points)"
   ]
  },
  {
   "cell_type": "code",
   "execution_count": 40,
   "id": "045003da",
   "metadata": {},
   "outputs": [],
   "source": [
    "# Q9-1 Grading Tag:\n",
    "def get_shape(ar):\n",
    "    return ar.shape"
   ]
  },
  {
   "cell_type": "code",
   "execution_count": 41,
   "id": "1cd284d0",
   "metadata": {},
   "outputs": [
    {
     "data": {
      "text/plain": [
       "(1000, 10)"
      ]
     },
     "execution_count": 41,
     "metadata": {},
     "output_type": "execute_result"
    }
   ],
   "source": [
    "# Should return: (1000, 10)\n",
    "\n",
    "get_shape(features)"
   ]
  },
  {
   "cell_type": "markdown",
   "id": "6ea6fef1",
   "metadata": {},
   "source": [
    "**2)** \n",
    "\n",
    "In the function `check_min_max` below, return the minimum value and maximum value of an inputted matrix as a tuple (minimum_value, maximum_value) (5 points)"
   ]
  },
  {
   "cell_type": "code",
   "execution_count": 38,
   "id": "c451aeb6",
   "metadata": {},
   "outputs": [],
   "source": [
    "# Q9-2 Grading Tag:\n",
    "def check_min_max(ar):\n",
    "    return np.min(ar), np.max(ar) "
   ]
  },
  {
   "cell_type": "code",
   "execution_count": 39,
   "id": "ba25ae64",
   "metadata": {},
   "outputs": [
    {
     "data": {
      "text/plain": [
       "(0, 99)"
      ]
     },
     "execution_count": 39,
     "metadata": {},
     "output_type": "execute_result"
    }
   ],
   "source": [
    "# Should return: (0, 99)\n",
    "\n",
    "check_min_max(features)"
   ]
  },
  {
   "cell_type": "markdown",
   "id": "6d260b9f",
   "metadata": {},
   "source": [
    "**3)** \n",
    "\n",
    "In the function `count_nan` below, return the count of the number of NaN values (NaN = 'Not a Number' or Null values) of an inputted matrix (5 points)"
   ]
  },
  {
   "cell_type": "code",
   "execution_count": 46,
   "id": "88097851",
   "metadata": {},
   "outputs": [],
   "source": [
    "# Q9-3 Grading Tag:\n",
    "def count_nan(ar):\n",
    "    return np.count_nonzero(np.isnan(ar))"
   ]
  },
  {
   "cell_type": "code",
   "execution_count": 47,
   "id": "be16eabf",
   "metadata": {},
   "outputs": [
    {
     "data": {
      "text/plain": [
       "0"
      ]
     },
     "execution_count": 47,
     "metadata": {},
     "output_type": "execute_result"
    }
   ],
   "source": [
    "# Should return: 0\n",
    "\n",
    "count_nan(weights)"
   ]
  },
  {
   "cell_type": "markdown",
   "id": "da2d87b4",
   "metadata": {},
   "source": [
    "***\n",
    "\n",
    "##### Outlier Identification\n",
    "\n",
    "The next questions below are functions to identify outliers. A good practise is to identify outliers, as outliers are sometimes the most interesting cases to look into but also might cause problems with a machine learning algorithm."
   ]
  },
  {
   "cell_type": "markdown",
   "id": "86b5b1c5",
   "metadata": {},
   "source": [
    "**4)** \n",
    "\n",
    "In the function `get_median` below, return the median value for each column of an inputted matrix (that is the median value - column-wise) (5 points)"
   ]
  },
  {
   "cell_type": "code",
   "execution_count": 66,
   "id": "3f8a3e74",
   "metadata": {},
   "outputs": [],
   "source": [
    "# Q9-4 Grading Tag:\n",
    "def get_median(ar):\n",
    "    return np.median(ar, axis = 1)\n"
   ]
  },
  {
   "cell_type": "code",
   "execution_count": 67,
   "id": "54be9f2b",
   "metadata": {},
   "outputs": [
    {
     "data": {
      "text/plain": [
       "array([36. , 35. , 38. , 41.5, 37. , 59. , 50.5, 49.5, 45.5, 46. , 33. ,\n",
       "       50.5, 69.5, 51. , 55. , 17.5, 57. , 60. , 62. , 82. , 57.5, 41.5,\n",
       "       45. , 75.5, 70.5, 58. , 58.5, 43. , 47. , 83. , 42. , 58. , 32. ,\n",
       "       65.5, 65.5, 74.5, 14. , 27.5, 52. , 55. , 52. , 37. , 49.5, 35.5,\n",
       "       57. , 40. , 40. , 15.5, 48. , 51.5, 67. , 71. , 76. , 61. , 35. ,\n",
       "       51. , 36. , 51. , 45.5, 61.5, 52.5, 26. , 62. , 23.5, 57.5, 36.5,\n",
       "       28. , 48.5, 65. , 36.5, 63.5, 61. , 62.5, 22.5, 48. , 46.5, 41.5,\n",
       "       67. , 46. , 58. , 46.5, 51.5, 26.5, 35. , 57. , 46. , 69.5, 80. ,\n",
       "       42.5, 37.5, 54.5, 29. , 66.5, 78.5, 73. , 61.5, 41.5, 52.5, 51.5,\n",
       "       15.5, 53.5, 56. , 20.5, 42. , 26.5, 42.5, 62.5, 52.5, 45. , 54. ,\n",
       "       46.5, 48. , 20. , 67.5, 32.5, 30. , 79. , 27. , 37.5, 61.5, 52.5,\n",
       "       48. , 47. , 30. , 33.5, 53. , 32. , 36. , 66. , 32.5, 29.5, 54. ,\n",
       "       37. , 48.5, 33. , 64. , 45. , 49.5, 44. , 71. , 30. , 51.5, 49.5,\n",
       "       44.5, 68. , 35. , 44.5, 57.5, 64. , 59. , 42. , 31.5, 62.5, 47. ,\n",
       "       24.5, 52.5, 45. , 65.5, 42. , 56.5, 39.5, 70. , 62.5, 43.5, 53. ,\n",
       "       60. , 56.5, 64.5, 31. , 46.5, 61.5, 49.5, 35. , 50. , 41.5, 47. ,\n",
       "       31.5, 36. , 42. , 38. , 62. , 48.5, 66. , 44.5, 70. , 46. , 54.5,\n",
       "       48. , 53.5, 47.5, 34. , 52.5, 50.5, 52.5, 73. , 39. , 49.5, 59. ,\n",
       "       54.5, 58. , 38.5, 56.5, 70.5, 33. , 61.5, 66.5, 35.5, 33.5, 47. ,\n",
       "       55. , 60. , 46. , 53. , 47. , 41. , 40. , 65.5, 61. , 67. , 70.5,\n",
       "       74.5, 39.5, 37. , 59. , 48.5, 42. , 29.5, 55. , 45. , 65. , 35. ,\n",
       "       37.5, 43.5, 67.5, 48. , 50.5, 57. , 57.5, 53.5, 35. , 31. , 33. ,\n",
       "       29.5, 40. , 38. , 50. , 38. , 47.5, 44. , 37.5, 76.5, 31. , 38.5,\n",
       "       54. , 63. , 50. , 44.5, 49.5, 63. , 46.5, 57. , 81. , 48.5, 59. ,\n",
       "       37. , 80. , 54. , 18.5, 82. , 22.5, 74.5, 36. , 35. , 46.5, 51. ,\n",
       "       47. , 64.5, 28.5, 51.5, 55.5, 27. , 73. , 62. , 45. , 30. , 48. ,\n",
       "       62. , 39.5, 53. , 53.5, 53. , 41. , 47.5, 46. , 60. , 68.5, 53. ,\n",
       "       52.5, 54.5, 45. , 61.5, 64. , 36. , 46. , 27. , 47. , 36. , 40.5,\n",
       "       65. , 55. , 50.5, 47.5, 69.5, 43.5, 47. , 58. , 29. , 45. , 35.5,\n",
       "       47. , 39.5, 65. , 52.5, 68. , 47.5, 39.5, 51.5, 80.5, 37.5, 67.5,\n",
       "       84. , 30.5, 37. , 30. , 51.5, 40. , 54. , 48.5, 53. , 48. , 51.5,\n",
       "       58.5, 58. , 64.5, 39.5, 68. , 53. , 83.5, 66.5, 43.5, 35.5, 33.5,\n",
       "       58.5, 65.5, 60.5, 50. , 59.5, 52.5, 30. , 33.5, 43.5, 42.5, 48.5,\n",
       "       47. , 23. , 55.5, 70. , 29. , 55.5, 37.5, 19. , 55.5, 39. , 56. ,\n",
       "       58.5, 47.5, 40. , 50.5, 48.5, 40.5, 59.5, 53.5, 48. , 13. , 44. ,\n",
       "       52.5, 65. , 55.5, 72. , 39. , 40.5, 59.5, 73.5, 53.5, 38. , 73. ,\n",
       "       28. , 38. , 56.5, 40. , 53.5, 50. , 61.5, 58. , 44.5, 34.5, 18.5,\n",
       "       77. , 46.5, 60.5, 27. , 35.5, 74.5, 45. , 60. , 35. , 57.5, 45. ,\n",
       "       40. , 62.5, 47.5, 51. , 69.5, 54.5, 41. , 46. , 67. , 47.5, 35.5,\n",
       "       57. , 48. , 26. , 31.5, 43. , 39.5, 60. , 67. , 61. , 68. , 48. ,\n",
       "       26.5, 38.5, 49. , 60.5, 52.5, 50. , 47.5, 47.5, 64. , 57.5, 47. ,\n",
       "       67.5, 73. , 50.5, 49. , 43.5, 66. , 64. , 48. , 29. , 49. , 63. ,\n",
       "       37. , 54.5, 75. , 43.5, 41. , 48. , 31. , 50. , 56. , 56. , 60.5,\n",
       "       28.5, 56.5, 47. , 50.5, 27. , 40. , 29. , 65. , 60.5, 49. , 53. ,\n",
       "       37.5, 28.5, 77. , 53. , 35.5, 43. , 58.5, 66.5, 36. , 50. , 43.5,\n",
       "       77. , 47. , 42.5, 30. , 40.5, 58.5, 66.5, 36. , 48.5, 55.5, 45.5,\n",
       "       46.5, 66. , 42.5, 68.5, 45.5, 41. , 69. , 55. , 51.5, 38.5, 52.5,\n",
       "       60. , 68. , 53. , 42.5, 52. , 65. , 57.5, 75.5, 60.5, 36.5, 47. ,\n",
       "       48. , 40. , 52.5, 34. , 54.5, 41. , 39. , 56. , 51. , 52. , 59. ,\n",
       "       28. , 37. , 37.5, 52. , 57. , 75. , 47.5, 51. , 45.5, 52. , 65. ,\n",
       "       58.5, 63. , 47. , 55.5, 32.5, 48.5, 57. , 31.5, 65. , 56.5, 36.5,\n",
       "       63.5, 28. , 35. , 54.5, 42. , 66. , 31. , 40. , 39. , 72. , 37. ,\n",
       "       50.5, 58.5, 55. , 41. , 51.5, 38.5, 31. , 48.5, 74. , 49. , 62. ,\n",
       "       53.5, 39.5, 53.5, 46. , 46.5, 22.5, 54. , 43.5, 57. , 34. , 51.5,\n",
       "       67.5, 29.5, 55. , 20.5, 41.5, 72. , 72.5, 80.5, 60. , 64. , 67.5,\n",
       "       34. , 48. , 51. , 72.5, 16. , 46.5, 52. , 43. , 50. , 75. , 46. ,\n",
       "       72. , 39. , 65. , 50. , 50.5, 49. , 84. , 19.5, 61. , 43. , 21.5,\n",
       "       42.5, 67.5, 55.5, 34. , 60.5, 53. , 67.5, 65.5, 72. , 63.5, 44. ,\n",
       "       44. , 61.5, 20.5, 71. , 41. , 22.5, 43. , 45.5, 63. , 44.5, 30.5,\n",
       "       71. , 65.5, 74. , 50.5, 47. , 57.5, 25.5, 45. , 57. , 45. , 60. ,\n",
       "       36.5, 22.5, 56. , 53. , 37.5, 70.5, 61.5, 27. , 29.5, 53. , 68. ,\n",
       "       20.5, 58. , 31.5, 33.5, 68. , 56. , 63. , 44.5, 54. , 44.5, 35.5,\n",
       "       64. , 38. , 43.5, 37.5, 77.5, 46.5, 45. , 62. , 63. , 50. , 27. ,\n",
       "       64.5, 48. , 57.5, 35.5, 49. , 28.5, 57.5, 55.5, 53.5, 62.5, 62.5,\n",
       "       65.5, 59.5, 69.5, 43.5, 64. , 60. , 30. , 41.5, 37.5, 39.5, 74.5,\n",
       "       20. , 79. , 68.5, 47. , 28. , 54. , 34.5, 18. , 64. , 49.5, 40. ,\n",
       "       35.5, 68. , 77. , 23.5, 43. , 46.5, 44.5, 63.5, 53. , 33.5, 38. ,\n",
       "       51. , 44.5, 50.5, 73. , 45. , 75.5, 11. , 37.5, 58. , 60.5, 61. ,\n",
       "       65. , 39.5, 44.5, 39. , 71.5, 28.5, 50.5, 76. , 38.5, 43. , 59.5,\n",
       "       29. , 67. , 41. , 51.5, 41. , 52. , 49.5, 63.5, 51. , 48.5, 31.5,\n",
       "       52. , 59. , 52. , 31.5, 48. , 24. , 50.5, 47. , 37.5, 55.5, 37. ,\n",
       "       69. , 45. , 37.5, 47. , 30.5, 46.5, 53.5, 74.5, 48. , 60.5, 35.5,\n",
       "       54. , 63. , 45.5, 60.5, 43. , 58.5, 45.5, 51.5, 59.5, 47. , 40.5,\n",
       "       26.5, 73. , 61. , 48. , 34. , 22.5, 35.5, 47.5, 46.5, 39. , 59.5,\n",
       "       43.5, 57. , 39.5, 56. , 70.5, 47.5, 53.5, 53.5, 43.5, 53. , 60. ,\n",
       "       40.5, 40.5, 48.5, 36. , 37. , 73.5, 37.5, 77.5, 42.5, 27.5, 31.5,\n",
       "       66. , 48.5, 71.5, 56.5, 50.5, 72. , 58.5, 29.5, 45. , 44. , 45.5,\n",
       "       35.5, 51.5, 38. , 59. , 61.5, 33. , 41.5, 71. , 42.5, 53. , 52.5,\n",
       "       47. , 26. , 38. , 41.5, 42.5, 54.5, 60.5, 52. , 44. , 47. , 62. ,\n",
       "       66. , 29. , 44.5, 57.5, 52.5, 58.5, 50. , 65.5, 50. , 75. , 65. ,\n",
       "       69.5, 29. , 53. , 18. , 68.5, 48.5, 41.5, 46.5, 43. , 71.5, 67.5,\n",
       "       55. , 63. , 68.5, 33. , 66. , 34. , 52. , 62.5, 45. , 71.5, 62. ,\n",
       "       39. , 54. , 51.5, 16. , 60.5, 45. , 41.5, 58. , 67.5, 39.5, 65.5,\n",
       "       43. , 50.5, 79. , 28.5, 43.5, 67.5, 30. , 35. , 48.5, 73.5, 62. ,\n",
       "       20.5, 77. , 32. , 40.5, 30.5, 53.5, 67. , 34. , 41.5, 70.5, 46. ,\n",
       "       25. , 33. , 29. , 51.5, 31. , 53.5, 37. , 67.5, 53. , 62. , 68. ,\n",
       "       26.5, 61.5, 65. , 58. , 51.5, 43.5, 75. , 55.5, 54.5, 42. , 31. ,\n",
       "       63.5, 84.5, 50.5, 36. , 35.5, 78.5, 43. , 68. , 43.5, 42. , 60.5,\n",
       "       67. , 33. , 48. , 50.5, 34.5, 56. , 61.5, 79. , 40. , 47.5, 44. ,\n",
       "       67. , 49.5, 19. , 23. , 59.5, 25.5, 53. , 81.5, 21. , 55. , 38.5,\n",
       "       59.5, 71. , 54. , 41. , 45.5, 36. , 65.5, 65.5, 22. , 39.5])"
      ]
     },
     "execution_count": 67,
     "metadata": {},
     "output_type": "execute_result"
    }
   ],
   "source": [
    "# Should return: array([50. , 49. , 50. , 49. , 50. , 52. , 49. , 49. , 49. , 50.5])\n",
    "\n",
    "get_median(features)"
   ]
  },
  {
   "cell_type": "markdown",
   "id": "fa37b18a",
   "metadata": {},
   "source": [
    "**5)** \n",
    "\n",
    "In the function `feat_minimum` below, return the row index that contains the minimum value in a given matrix. (10 points)\n",
    "\n",
    "For example - in the matrix below, the minimum value is 2 and that appears in rows 1 and 3 so the function would return the row indexes `array([1,3])`:\n",
    "\n",
    "```\n",
    "test_matrix = np.array([[ 4, 62, 90],\n",
    "                        [ 2, 89, 31],\n",
    "                        [84, 45,  3],\n",
    "                        [24, 54,  2]])\n",
    "\n",
    "feat_minimum(test_matrix) -> array([1,3])\n",
    "```"
   ]
  },
  {
   "cell_type": "code",
   "execution_count": 71,
   "id": "dc78d541",
   "metadata": {},
   "outputs": [],
   "source": [
    "# Q9-5 Grading Tag:\n",
    "def feat_minimum(ar):\n",
    "    return np.argmin(ar,0)"
   ]
  },
  {
   "cell_type": "code",
   "execution_count": 72,
   "id": "dd0c0ff1",
   "metadata": {},
   "outputs": [
    {
     "data": {
      "text/plain": [
       "array([ 15,  14,  24,  12, 126,  83,  80,  99,  44,  65])"
      ]
     },
     "execution_count": 72,
     "metadata": {},
     "output_type": "execute_result"
    }
   ],
   "source": [
    "# Should return: \n",
    "# array([ 12,  14,  15,  24,  44,  51,  57,  65,  73,  80,  83,  93,  94,\n",
    "#         99, 106, 106, 111, 112, 114, 126, 172, 186, 202, 209, 224, 230,\n",
    "#        239, 259, 264, 270, 281, 284, 297, 299, 305, 306, 308, 364, 367,\n",
    "#        367, 370, 383, 390, 396, 417, 427, 437, 444, 462, 478, 480, 490,\n",
    "#        500, 529, 539, 542, 552, 553, 579, 595, 612, 618, 619, 627, 636,\n",
    "#        643, 646, 667, 679, 681, 719, 720, 720, 725, 732, 735, 741, 743,\n",
    "#        775, 775, 807, 807, 811, 823, 834, 847, 852, 863, 865, 870, 871,\n",
    "#        874, 903, 907, 921, 932, 963, 971, 987, 990, 992, 993], dtype=int64)\n",
    "\n",
    "feat_minimum(features)"
   ]
  },
  {
   "cell_type": "markdown",
   "id": "7e506335",
   "metadata": {},
   "source": [
    "**6)** \n",
    "\n",
    "In the function `feat_maximum` below, return the row index with the maximum value for the `feat_num` feature. For example, if the function was passed 3 for the `feat_num`, it would find the row index with the maximum value for the fourth feature (column 3). (10 points) \n",
    "\n",
    "(Hint: Build on what you made in #5 above!)\n",
    "\n",
    "More in-depth example: in the matrix below, for feature 1 (passed as `feat_num`) the maximum value is 89 and that appears in rows 1 and 2 so the function would return the row indexes `array([1,2])`:\n",
    "\n",
    "```\n",
    "test_matrix = np.array([[ 4, 62,  9],\n",
    "                        [ 2, 89, 31],\n",
    "                        [84, 89,  3],\n",
    "                        [89, 54,  2]])\n",
    "\n",
    "feat_maximum(test_matrix, 1) -> array([1,2])\n",
    "```"
   ]
  },
  {
   "cell_type": "code",
   "execution_count": null,
   "id": "120012cb",
   "metadata": {},
   "outputs": [],
   "source": [
    "# Q9-6 Grading Tag:\n",
    "def feat_maximum(ar, feat_num):\n",
    "    pass # delete before entering code"
   ]
  },
  {
   "cell_type": "code",
   "execution_count": null,
   "id": "e6caaff3",
   "metadata": {},
   "outputs": [],
   "source": [
    "# Should return: \n",
    "# array([ 14,  94, 120, 161, 168, 483, 634, 650, 662, 699, 938, 997], dtype=int64)\n",
    "\n",
    "feat_maximum(features, 3)"
   ]
  },
  {
   "cell_type": "markdown",
   "id": "c04dc6ea",
   "metadata": {},
   "source": [
    "**7)** \n",
    "\n",
    "In the function `outlier_high` below, return the count of the number of values at or above 90 in a matrix. (5 points)"
   ]
  },
  {
   "cell_type": "code",
   "execution_count": null,
   "id": "a9192e74",
   "metadata": {},
   "outputs": [],
   "source": [
    "# Q9-7 Grading Tag:\n",
    "def outlier_high(ar):\n",
    "    pass # delete before entering code"
   ]
  },
  {
   "cell_type": "code",
   "execution_count": null,
   "id": "b7d247a9",
   "metadata": {},
   "outputs": [],
   "source": [
    "# Should return 990\n",
    "\n",
    "outlier_high(features)"
   ]
  },
  {
   "cell_type": "markdown",
   "id": "0e8882e8",
   "metadata": {},
   "source": [
    "**8)** \n",
    "\n",
    "In the function `outlier_low` below, return the count of the number of values at or below 10 in a matrix. (5 points)"
   ]
  },
  {
   "cell_type": "code",
   "execution_count": null,
   "id": "10a8516f",
   "metadata": {},
   "outputs": [],
   "source": [
    "# Q9-8 Grading Tag:\n",
    "def outlier_low(ar):\n",
    "    pass # delete before entering code"
   ]
  },
  {
   "cell_type": "code",
   "execution_count": null,
   "id": "0626c252",
   "metadata": {},
   "outputs": [],
   "source": [
    "# Should return 1043\n",
    "\n",
    "outlier_low(features)"
   ]
  },
  {
   "cell_type": "markdown",
   "id": "aa04367b",
   "metadata": {},
   "source": [
    "***\n",
    "\n",
    "##### Prediction\n",
    "\n",
    "The next questions below are functions to use the matrixes made above to calculate a prediction result. This is a simplified example of what some machine learning algorithms do to provide a prediction."
   ]
  },
  {
   "cell_type": "markdown",
   "id": "0b770de9",
   "metadata": {},
   "source": [
    "**9)** \n",
    "\n",
    "In the function `calc_features` below, multiply each row of the `features` matrix with the `weights` matrix return this new matrix and name it `calced`. (5 points)"
   ]
  },
  {
   "cell_type": "code",
   "execution_count": null,
   "id": "3d2b7e23",
   "metadata": {},
   "outputs": [],
   "source": [
    "# Q9-9 Grading Tag:\n",
    "def calc_features(np_feat, np_weight):\n",
    "    pass # delete before entering code"
   ]
  },
  {
   "cell_type": "code",
   "execution_count": null,
   "id": "7de111c2",
   "metadata": {},
   "outputs": [],
   "source": [
    "# Expected first couple of lines:\n",
    "# array([[  0.98162444,  19.50986054,  -6.8909526 , ...,  12.58532   ,\n",
    "#           0.08801448, -10.81617908],\n",
    "#        [  0.98162444,  28.00609013,  -2.37355034, ...,  22.1501632 ,\n",
    "#           0.60509955,  -1.15887633],  ...\n",
    "\n",
    "calced = calc_features(features, weights)\n",
    "calced"
   ]
  },
  {
   "cell_type": "markdown",
   "id": "a14ac2f2",
   "metadata": {},
   "source": [
    "**10)** \n",
    "\n",
    "In the function `matrix_score` below, sum the values of the `calced` matrix (from 9 above) row-wise to get a single weighted 'score' for each row return this new matrix and name it `score` (10 points)"
   ]
  },
  {
   "cell_type": "code",
   "execution_count": null,
   "id": "53c53ea4",
   "metadata": {},
   "outputs": [],
   "source": [
    "# Q9-10 Grading Tag:\n",
    "def matrix_score(np_calc):\n",
    "    pass # delete before entering code"
   ]
  },
  {
   "cell_type": "code",
   "execution_count": null,
   "id": "53462c71",
   "metadata": {},
   "outputs": [],
   "source": [
    "# Expected first couple of lines:\n",
    "# array([ 1.16594614e+01,  3.71336413e+01,  4.33563146e+01,  1.62602648e+01,\n",
    "#         2.84698142e+01,  2.60448311e+01, -4.23597988e+00,  4.25279392e+01, ...\n",
    "\n",
    "\n",
    "score = matrix_score(calced)\n",
    "score"
   ]
  },
  {
   "cell_type": "markdown",
   "id": "2cb7cab8",
   "metadata": {},
   "source": [
    "**11)** \n",
    "\n",
    "In the function `score_mean` below, find and return the mean of the of the entire matrix `score` (5 points)"
   ]
  },
  {
   "cell_type": "code",
   "execution_count": null,
   "id": "8ca85dc6",
   "metadata": {},
   "outputs": [],
   "source": [
    "# Q9-11 Grading Tag:\n",
    "def score_mean(np_score):\n",
    "    pass # delete before entering code"
   ]
  },
  {
   "cell_type": "code",
   "execution_count": null,
   "id": "667e1d86",
   "metadata": {},
   "outputs": [],
   "source": [
    "# Should return 9.73170897548\n",
    "score_mean(score)"
   ]
  },
  {
   "cell_type": "markdown",
   "id": "03133442",
   "metadata": {},
   "source": [
    "**12)** \n",
    "\n",
    "In the function `classify` below, using the matrix `score`, 'classify' each record based on if they are above/below the mean as follows: <br>\n",
    "- [0] below mean <br>\n",
    "- [1] at or above mean <br>\n",
    "    \n",
    "Make a new matrix called `prediction` that has the values 0 or 1 based on the `score` matrix from 10 above. (10 points)\n",
    "\n",
    "Hint: You can use the function you made above in #11 inside this function!"
   ]
  },
  {
   "cell_type": "code",
   "execution_count": null,
   "id": "eddf58f6",
   "metadata": {},
   "outputs": [],
   "source": [
    "# Q9-12 Grading Tag:\n",
    "def classify(np_score):\n",
    "    pass # delete before entering code"
   ]
  },
  {
   "cell_type": "code",
   "execution_count": null,
   "id": "8e84a332",
   "metadata": {},
   "outputs": [],
   "source": [
    "# Expected first couple of lines:\n",
    "# array([1, 1, 1, 1, 1, 1, 0, 1, 0, 0, 1, 0, 1, 0, 0, 0, 0, 0, 0, 1, 1, 1,\n",
    "#        0, 1, 0, 1, 1, 1, 0, 1, 1, 1, 1, 0, 0, 1, 1, 0, 0, 0, 1, 1, 0, 0, ...\n",
    "\n",
    "\n",
    "prediction = classify(score)\n",
    "prediction"
   ]
  },
  {
   "cell_type": "markdown",
   "id": "11703604",
   "metadata": {},
   "source": [
    "**13)** \n",
    "\n",
    "In the function `perc_ones` below, using the `prediction` matrix, return the percentage of predictions classified as a 1 (10 points)"
   ]
  },
  {
   "cell_type": "code",
   "execution_count": null,
   "id": "40323814",
   "metadata": {},
   "outputs": [],
   "source": [
    "# Q9-13 Grading Tag:\n",
    "def perc_ones(np_pred):\n",
    "    pass # delete before entering code"
   ]
  },
  {
   "cell_type": "code",
   "execution_count": null,
   "id": "1dae9850",
   "metadata": {},
   "outputs": [],
   "source": [
    "# Should return: 0.505\n",
    "\n",
    "perc_ones(prediction) "
   ]
  },
  {
   "cell_type": "markdown",
   "id": "c1977e40",
   "metadata": {},
   "source": [
    "***\n",
    "\n",
    "##### Evaluation\n",
    "\n",
    "The next question makes a function to evaluate how well our algorithm's predictions performed. \n",
    "\n",
    "Run the code below to make the `truth` matrix. This matrix is 1x1000 and is the ground truth on if a result should be 0 or 1. "
   ]
  },
  {
   "cell_type": "code",
   "execution_count": null,
   "id": "bc38a09b",
   "metadata": {},
   "outputs": [],
   "source": [
    "# Run this to make the truth matrix\n",
    "\n",
    "np.random.seed(1234)\n",
    "truth = np.random.randint(0, 2, 1000)"
   ]
  },
  {
   "cell_type": "markdown",
   "id": "d9c812ab",
   "metadata": {},
   "source": [
    "**14)** \n",
    "\n",
    "In the function `num_correct` below, compare the `truth` matrix to our prediction matrix `prediction`. Return the number of correct predictions in a tuple of two values: (correct_zero_prediction, correct_one_prediction). (10 points)\n",
    "\n",
    "A correct_zero_prediction is where our algorithm predicts a 0 and the truth matrix is a 0. (In machine learning, we call this result a 'True Negative')\n",
    "\n",
    "A correct_one_prediction is where our algorithm predicts a 1 and the truth matrix is a 1. (In machine learning, we call this result a 'True Positive')"
   ]
  },
  {
   "cell_type": "code",
   "execution_count": null,
   "id": "400588ca",
   "metadata": {},
   "outputs": [],
   "source": [
    "# Q9-14 Grading Tag:\n",
    "def num_correct(np_truth, np_pred):\n",
    "    pass # delete before entering code"
   ]
  },
  {
   "cell_type": "code",
   "execution_count": null,
   "id": "59f2307f",
   "metadata": {},
   "outputs": [],
   "source": [
    "# Should return: (233, 263)\n",
    "\n",
    "num_correct(truth, prediction)"
   ]
  }
 ],
 "metadata": {
  "kernelspec": {
   "display_name": "Python 3 (ipykernel)",
   "language": "python",
   "name": "python3"
  },
  "language_info": {
   "codemirror_mode": {
    "name": "ipython",
    "version": 3
   },
   "file_extension": ".py",
   "mimetype": "text/x-python",
   "name": "python",
   "nbconvert_exporter": "python",
   "pygments_lexer": "ipython3",
   "version": "3.10.9"
  }
 },
 "nbformat": 4,
 "nbformat_minor": 5
}
